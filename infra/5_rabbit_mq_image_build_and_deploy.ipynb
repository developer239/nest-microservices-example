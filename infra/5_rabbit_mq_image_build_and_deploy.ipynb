{
 "cells": [
  {
   "metadata": {},
   "cell_type": "markdown",
   "source": "# RabbitMQ Docker Image Build & Deploy",
   "id": "f89c8c81efd3cc41"
  },
  {
   "metadata": {},
   "cell_type": "raw",
   "source": "Initialize local variables from the shared project variables file.",
   "id": "aa4d8bc524b11031"
  },
  {
   "metadata": {
    "ExecuteTime": {
     "end_time": "2024-07-21T16:03:30.563879Z",
     "start_time": "2024-07-21T16:03:30.557529Z"
    }
   },
   "cell_type": "code",
   "source": [
    "from project_vars import project_variables\n",
    "\n",
    "env = project_variables['environment']\n",
    "project_id = project_variables['project_id']\n",
    "region = project_variables['region']\n",
    "image_name = project_variables['rabbitmq_docker_image_name']\n",
    "image_tag = project_variables['rabbitmq_docker_image_tag']"
   ],
   "id": "13b1f3c9b2233924",
   "outputs": [],
   "execution_count": 2
  },
  {
   "metadata": {},
   "cell_type": "raw",
   "source": "Build the docker image",
   "id": "690498e4d7fac34f"
  },
  {
   "metadata": {},
   "cell_type": "code",
   "outputs": [],
   "execution_count": null,
   "source": "!docker build -t {region}-docker.pkg.dev/{project_id}/{env}-repo/{env}-{image_name}:{image_tag} -f ./compute/rabbitmq/Dockerfile ./compute/rabbitmq",
   "id": "b75eaabf19a37cbe"
  },
  {
   "metadata": {},
   "cell_type": "raw",
   "source": "Push the image to Artifact Registry",
   "id": "95ee947241a1daeb"
  },
  {
   "metadata": {},
   "cell_type": "code",
   "outputs": [],
   "execution_count": null,
   "source": "!docker push {region}-docker.pkg.dev/{project_id}/{env}-repo/{env}-rabbitmq:latest",
   "id": "a1218de70ba46885"
  }
 ],
 "metadata": {
  "kernelspec": {
   "display_name": "Python 3",
   "language": "python",
   "name": "python3"
  },
  "language_info": {
   "codemirror_mode": {
    "name": "ipython",
    "version": 2
   },
   "file_extension": ".py",
   "mimetype": "text/x-python",
   "name": "python",
   "nbconvert_exporter": "python",
   "pygments_lexer": "ipython2",
   "version": "2.7.6"
  }
 },
 "nbformat": 4,
 "nbformat_minor": 5
}
