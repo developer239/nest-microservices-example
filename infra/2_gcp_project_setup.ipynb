{
 "cells": [
  {
   "metadata": {},
   "cell_type": "markdown",
   "source": "# Google Cloud Project Setup",
   "id": "6ed6db8fea48bf97"
  },
  {
   "metadata": {},
   "cell_type": "raw",
   "source": "Initialize local variables from the shared project variables file.",
   "id": "361ab3e3669d4465"
  },
  {
   "metadata": {
    "ExecuteTime": {
     "end_time": "2024-07-21T16:51:07.110466Z",
     "start_time": "2024-07-21T16:51:07.106014Z"
    }
   },
   "cell_type": "code",
   "source": [
    "from project_vars import project_variables\n",
    "\n",
    "env = project_variables['environment']\n",
    "project_id = project_variables['project_id']\n",
    "project_name = project_variables['project_name']\n",
    "bucket_name = project_variables['bucket_name']\n",
    "region = project_variables['region']"
   ],
   "id": "86babdcfd9134837",
   "outputs": [],
   "execution_count": 8
  },
  {
   "metadata": {},
   "cell_type": "markdown",
   "source": "Authenticate CLI for Google Cloud.",
   "id": "d1993029355f6884"
  },
  {
   "metadata": {
    "ExecuteTime": {
     "end_time": "2024-07-21T16:45:43.114049Z",
     "start_time": "2024-07-21T16:45:27.600565Z"
    }
   },
   "cell_type": "code",
   "source": "!gcloud auth login",
   "id": "f2ea68fd951301b8",
   "outputs": [
    {
     "name": "stdout",
     "output_type": "stream",
     "text": [
      "Your browser has been opened to visit:\r\n",
      "\r\n",
      "    https://accounts.google.com/o/oauth2/auth?response_type=code&client_id=32555940559.apps.googleusercontent.com&redirect_uri=http%3A%2F%2Flocalhost%3A8085%2F&scope=openid+https%3A%2F%2Fwww.googleapis.com%2Fauth%2Fuserinfo.email+https%3A%2F%2Fwww.googleapis.com%2Fauth%2Fcloud-platform+https%3A%2F%2Fwww.googleapis.com%2Fauth%2Fappengine.admin+https%3A%2F%2Fwww.googleapis.com%2Fauth%2Fsqlservice.login+https%3A%2F%2Fwww.googleapis.com%2Fauth%2Fcompute+https%3A%2F%2Fwww.googleapis.com%2Fauth%2Faccounts.reauth&state=EYdB5UtcmIiT6fQ1hH6rpcRvulcbCu&access_type=offline&code_challenge=0cJHsGIy0SiI1leuWHLY_7dTmrIeGlu8AC-LVse0Ocg&code_challenge_method=S256\r\n",
      "\r\n",
      "\r\n",
      "You are now logged in as [m.jarnot@yahoo.com].\r\n",
      "Your current project is [nest-vite-fs-microservices].  You can change this setting by running:\r\n",
      "  $ gcloud config set project PROJECT_ID\r\n",
      "\r\n",
      "\r\n",
      "Updates are available for some Google Cloud CLI components.  To install them,\r\n",
      "please run:\r\n",
      "  $ gcloud components update\r\n",
      "\r\n",
      "\r\n",
      "\r\n",
      "To take a quick anonymous survey, run:\r\n",
      "  $ gcloud survey\r\n",
      "\r\n"
     ]
    }
   ],
   "execution_count": 2
  },
  {
   "metadata": {},
   "cell_type": "markdown",
   "source": "Create a new Google Cloud project.",
   "id": "e299d1c1de253e23"
  },
  {
   "metadata": {
    "ExecuteTime": {
     "end_time": "2024-07-21T16:46:17.236301Z",
     "start_time": "2024-07-21T16:46:05.481399Z"
    }
   },
   "cell_type": "code",
   "source": "!gcloud projects create {project_id} --name=\"{project_name}\"",
   "id": "3879be98f1b3ebc9",
   "outputs": [
    {
     "name": "stdout",
     "output_type": "stream",
     "text": [
      "Create in progress for [https://cloudresourcemanager.googleapis.com/v1/projects/fs-microservices].\r\n",
      "Waiting for [operations/cp.6722335875854978100] to finish...done.              \r\n",
      "Enabling service [cloudapis.googleapis.com] on project [fs-microservices]...\r\n",
      "Operation \"operations/acat.p2-526101498496-8630f439-e6d3-447d-8416-a416a2f06744\" finished successfully.\r\n"
     ]
    }
   ],
   "execution_count": 3
  },
  {
   "metadata": {
    "ExecuteTime": {
     "end_time": "2024-07-21T16:46:58.762214Z",
     "start_time": "2024-07-21T16:46:55.993047Z"
    }
   },
   "cell_type": "code",
   "source": "!gcloud config set project {project_id}",
   "id": "3c14791ef081b7f5",
   "outputs": [
    {
     "name": "stdout",
     "output_type": "stream",
     "text": [
      "Updated property [core/project].\r\n"
     ]
    }
   ],
   "execution_count": 4
  },
  {
   "metadata": {},
   "cell_type": "markdown",
   "source": "Link billing account to your project.",
   "id": "f3536b1af47915d9"
  },
  {
   "metadata": {
    "ExecuteTime": {
     "end_time": "2024-07-21T16:47:14.030834Z",
     "start_time": "2024-07-21T16:47:13.734328Z"
    }
   },
   "cell_type": "code",
   "source": [
    "import webbrowser\n",
    "billing_account_link = \"https://console.cloud.google.com/billing/linkedaccount?hl=en&project=\" + project_id\n",
    "webbrowser.open(billing_account_link)"
   ],
   "id": "5f288ed4763eea6",
   "outputs": [
    {
     "data": {
      "text/plain": [
       "True"
      ]
     },
     "execution_count": 5,
     "metadata": {},
     "output_type": "execute_result"
    }
   ],
   "execution_count": 5
  },
  {
   "metadata": {},
   "cell_type": "markdown",
   "source": "Enable necessary GCP services (this command may take a while to complete)",
   "id": "59b8802ca5d52ad9"
  },
  {
   "metadata": {
    "ExecuteTime": {
     "end_time": "2024-07-21T16:49:40.479194Z",
     "start_time": "2024-07-21T16:47:40.007095Z"
    }
   },
   "cell_type": "code",
   "source": [
    "!gcloud services enable \\\n",
    "    artifactregistry.googleapis.com \\\n",
    "    compute.googleapis.com \\\n",
    "    cloudbuild.googleapis.com \\\n",
    "    secretmanager.googleapis.com \\\n",
    "    sqladmin.googleapis.com \\\n",
    "    storage.googleapis.com \\\n",
    "    iam.googleapis.com \\\n",
    "    cloudresourcemanager.googleapis.com \\\n",
    "    run.googleapis.com \\\n",
    "    vpcaccess.googleapis.com \\\n",
    "    servicenetworking.googleapis.com \\\n",
    "    cloudapis.googleapis.com \\\n",
    "    containerregistry.googleapis.com"
   ],
   "id": "dd706488b4284320",
   "outputs": [
    {
     "name": "stdout",
     "output_type": "stream",
     "text": [
      "Operation \"operations/acf.p2-526101498496-e9ae5a8b-cf94-497f-9acc-50dd9b65f1c4\" finished successfully.\r\n"
     ]
    }
   ],
   "execution_count": 6
  },
  {
   "metadata": {},
   "cell_type": "markdown",
   "source": "Create GCP bucket for terraform state.",
   "id": "5a43f5cca0fe0c02"
  },
  {
   "metadata": {
    "ExecuteTime": {
     "end_time": "2024-07-21T16:51:16.507083Z",
     "start_time": "2024-07-21T16:51:13.691667Z"
    }
   },
   "cell_type": "code",
   "source": "!gsutil mb -l {region} gs://{bucket_name}/",
   "id": "94ab381b931937bd",
   "outputs": [
    {
     "name": "stdout",
     "output_type": "stream",
     "text": [
      "Creating gs://fs-microservices-bucket/...\r\n"
     ]
    }
   ],
   "execution_count": 9
  },
  {
   "metadata": {
    "ExecuteTime": {
     "end_time": "2024-07-21T16:51:33.781208Z",
     "start_time": "2024-07-21T16:51:30.868342Z"
    }
   },
   "cell_type": "code",
   "source": "!gsutil versioning set on gs://{bucket_name}/",
   "id": "3de9db3fdeea9626",
   "outputs": [
    {
     "name": "stdout",
     "output_type": "stream",
     "text": [
      "Enabling versioning for gs://fs-microservices-bucket/...\r\n"
     ]
    }
   ],
   "execution_count": 10
  }
 ],
 "metadata": {
  "kernelspec": {
   "display_name": "Python 3",
   "language": "python",
   "name": "python3"
  },
  "language_info": {
   "codemirror_mode": {
    "name": "ipython",
    "version": 2
   },
   "file_extension": ".py",
   "mimetype": "text/x-python",
   "name": "python",
   "nbconvert_exporter": "python",
   "pygments_lexer": "ipython2",
   "version": "2.7.6"
  }
 },
 "nbformat": 4,
 "nbformat_minor": 5
}
