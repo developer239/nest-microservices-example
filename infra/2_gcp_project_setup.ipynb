{
 "cells": [
  {
   "metadata": {},
   "cell_type": "markdown",
   "source": "# Google Cloud Project Setup",
   "id": "6ed6db8fea48bf97"
  },
  {
   "metadata": {},
   "cell_type": "raw",
   "source": "Initialize local variables from the shared project variables file.",
   "id": "361ab3e3669d4465"
  },
  {
   "metadata": {
    "ExecuteTime": {
     "end_time": "2024-07-21T15:16:35.309460Z",
     "start_time": "2024-07-21T15:16:35.305039Z"
    }
   },
   "cell_type": "code",
   "source": [
    "from project_vars import project_variables\n",
    "\n",
    "env = project_variables['environment']\n",
    "project_id = project_variables['project_id']\n",
    "project_name = project_variables['project_name']\n",
    "bucket_name = project_variables['bucket_name']"
   ],
   "id": "86babdcfd9134837",
   "outputs": [],
   "execution_count": 2
  },
  {
   "metadata": {},
   "cell_type": "markdown",
   "source": "Authenticate CLI for Google Cloud.",
   "id": "d1993029355f6884"
  },
  {
   "metadata": {},
   "cell_type": "code",
   "outputs": [],
   "execution_count": null,
   "source": "!gcloud auth login",
   "id": "f2ea68fd951301b8"
  },
  {
   "metadata": {},
   "cell_type": "markdown",
   "source": "Create a new Google Cloud project.",
   "id": "e299d1c1de253e23"
  },
  {
   "metadata": {},
   "cell_type": "code",
   "outputs": [],
   "execution_count": null,
   "source": "!gcloud projects create {project_id} --name=\"{project_name}\"",
   "id": "3879be98f1b3ebc9"
  },
  {
   "metadata": {},
   "cell_type": "code",
   "outputs": [],
   "execution_count": null,
   "source": "!gcloud config set project {project_id}",
   "id": "3c14791ef081b7f5"
  },
  {
   "metadata": {},
   "cell_type": "markdown",
   "source": "Link billing account to your project.",
   "id": "f3536b1af47915d9"
  },
  {
   "metadata": {},
   "cell_type": "code",
   "outputs": [],
   "execution_count": null,
   "source": [
    "import webbrowser\n",
    "billing_account_link = \"https://console.cloud.google.com/billing/linkedaccount?hl=en&project=\" + project_id\n",
    "webbrowser.open(billing_account_link)"
   ],
   "id": "5f288ed4763eea6"
  },
  {
   "metadata": {},
   "cell_type": "markdown",
   "source": "Enable necessary GCP services (this command may take a while to complete)",
   "id": "59b8802ca5d52ad9"
  },
  {
   "metadata": {},
   "cell_type": "code",
   "outputs": [],
   "execution_count": null,
   "source": [
    "!gcloud services enable \\\n",
    "artifactregistry.googleapis.com \\\n",
    "    compute.googleapis.com \\\n",
    "    cloudbuild.googleapis.com \\\n",
    "    secretmanager.googleapis.com \\\n",
    "    sqladmin.googleapis.com \\\n",
    "    storage.googleapis.com \\\n",
    "    iam.googleapis.com \\\n",
    "    cloudresourcemanager.googleapis.com \\\n",
    "    run.googleapis.com \\\n",
    "    vpcaccess.googleapis.com \\\n",
    "    servicenetworking.googleapis.com \\\n",
    "    cloudapis.googleapis.com \\\n",
    "    containerregistry.googleapis.com"
   ],
   "id": "dd706488b4284320"
  },
  {
   "metadata": {},
   "cell_type": "markdown",
   "source": "Create GCP bucket for terraform state.",
   "id": "5a43f5cca0fe0c02"
  },
  {
   "metadata": {},
   "cell_type": "code",
   "outputs": [],
   "execution_count": null,
   "source": "!gsutil mb -l {region} gs://{bucket_name}/",
   "id": "94ab381b931937bd"
  },
  {
   "metadata": {},
   "cell_type": "code",
   "outputs": [],
   "execution_count": null,
   "source": "!gsutil versioning set on gs://{bucket_name}/",
   "id": "3de9db3fdeea9626"
  }
 ],
 "metadata": {
  "kernelspec": {
   "display_name": "Python 3",
   "language": "python",
   "name": "python3"
  },
  "language_info": {
   "codemirror_mode": {
    "name": "ipython",
    "version": 2
   },
   "file_extension": ".py",
   "mimetype": "text/x-python",
   "name": "python",
   "nbconvert_exporter": "python",
   "pygments_lexer": "ipython2",
   "version": "2.7.6"
  }
 },
 "nbformat": 4,
 "nbformat_minor": 5
}
