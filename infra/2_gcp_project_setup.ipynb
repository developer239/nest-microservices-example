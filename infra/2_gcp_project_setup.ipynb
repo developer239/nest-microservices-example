{
 "cells": [
  {
   "metadata": {},
   "cell_type": "markdown",
   "source": "# Google Cloud Project Setup",
   "id": "6ed6db8fea48bf97"
  },
  {
   "metadata": {},
   "cell_type": "markdown",
   "source": "Initialize local variables from the shared project variables file.",
   "id": "769c9e8206a80e4b"
  },
  {
   "metadata": {
    "ExecuteTime": {
     "end_time": "2024-07-22T12:47:29.584797Z",
     "start_time": "2024-07-22T12:47:29.576176Z"
    }
   },
   "cell_type": "code",
   "source": [
    "from project_vars import project_variables\n",
    "\n",
    "env = project_variables['environment']\n",
    "project_id = project_variables['project_id']\n",
    "project_name = project_variables['project_name']\n",
    "bucket_name = project_variables['bucket_name']\n",
    "region = project_variables['region']"
   ],
   "id": "86babdcfd9134837",
   "outputs": [],
   "execution_count": 1
  },
  {
   "metadata": {},
   "cell_type": "markdown",
   "source": "Login to GCloud (authenticates you for gcloud CLI commands and sets up user credentials)",
   "id": "d1993029355f6884"
  },
  {
   "metadata": {
    "ExecuteTime": {
     "end_time": "2024-07-22T12:47:40.227188Z",
     "start_time": "2024-07-22T12:47:32.298429Z"
    }
   },
   "cell_type": "code",
   "source": "!gcloud auth login",
   "id": "f2ea68fd951301b8",
   "outputs": [
    {
     "name": "stdout",
     "output_type": "stream",
     "text": [
      "Your browser has been opened to visit:\r\n",
      "\r\n",
      "    https://accounts.google.com/o/oauth2/auth?response_type=code&client_id=32555940559.apps.googleusercontent.com&redirect_uri=http%3A%2F%2Flocalhost%3A8085%2F&scope=openid+https%3A%2F%2Fwww.googleapis.com%2Fauth%2Fuserinfo.email+https%3A%2F%2Fwww.googleapis.com%2Fauth%2Fcloud-platform+https%3A%2F%2Fwww.googleapis.com%2Fauth%2Fappengine.admin+https%3A%2F%2Fwww.googleapis.com%2Fauth%2Fsqlservice.login+https%3A%2F%2Fwww.googleapis.com%2Fauth%2Fcompute+https%3A%2F%2Fwww.googleapis.com%2Fauth%2Faccounts.reauth&state=ApNHbfrmPbrS9hvhJwepvIaZ9jItZg&access_type=offline&code_challenge=x4e4Lp4_ViFb7tDBGa6xc2g-ybB_-FxmGb8npk1iWPA&code_challenge_method=S256\r\n",
      "\r\n",
      "\r\n",
      "You are now logged in as [m.jarnot@yahoo.com].\r\n",
      "Your current project is [some-app-to-deploy-2].  You can change this setting by running:\r\n",
      "  $ gcloud config set project PROJECT_ID\r\n"
     ]
    }
   ],
   "execution_count": 2
  },
  {
   "metadata": {},
   "cell_type": "markdown",
   "source": "Create a new Google Cloud project.",
   "id": "e299d1c1de253e23"
  },
  {
   "metadata": {
    "ExecuteTime": {
     "end_time": "2024-07-22T12:48:00.977585Z",
     "start_time": "2024-07-22T12:47:46.386058Z"
    }
   },
   "cell_type": "code",
   "source": "!gcloud projects create {project_id} --name=\"{project_name}\"",
   "id": "3879be98f1b3ebc9",
   "outputs": [
    {
     "name": "stdout",
     "output_type": "stream",
     "text": [
      "Create in progress for [https://cloudresourcemanager.googleapis.com/v1/projects/some-app-to-deploy-3].\r\n",
      "Waiting for [operations/cp.5213040521977389966] to finish...done.              \r\n",
      "Enabling service [cloudapis.googleapis.com] on project [some-app-to-deploy-3]...\r\n",
      "Operation \"operations/acat.p2-11155245814-4935ef7f-4569-46a6-947a-6e09af087c2e\" finished successfully.\r\n"
     ]
    }
   ],
   "execution_count": 3
  },
  {
   "metadata": {
    "ExecuteTime": {
     "end_time": "2024-07-22T12:48:04.801370Z",
     "start_time": "2024-07-22T12:48:02.181807Z"
    }
   },
   "cell_type": "code",
   "source": "!gcloud config set project {project_id}",
   "id": "3c14791ef081b7f5",
   "outputs": [
    {
     "name": "stdout",
     "output_type": "stream",
     "text": [
      "Updated property [core/project].\r\n"
     ]
    }
   ],
   "execution_count": 4
  },
  {
   "metadata": {},
   "cell_type": "markdown",
   "source": "One more login to GCloud (sets up application default credentials (ADC) used by Google Cloud client libraries and SDK tools)",
   "id": "ac4e0cdf043819ed"
  },
  {
   "metadata": {
    "ExecuteTime": {
     "end_time": "2024-07-22T12:48:18.349219Z",
     "start_time": "2024-07-22T12:48:10.022875Z"
    }
   },
   "cell_type": "code",
   "source": "!gcloud auth application-default login",
   "id": "9d7d254cbeed9413",
   "outputs": [
    {
     "name": "stdout",
     "output_type": "stream",
     "text": [
      "Your browser has been opened to visit:\r\n",
      "\r\n",
      "    https://accounts.google.com/o/oauth2/auth?response_type=code&client_id=764086051850-6qr4p6gpi6hn506pt8ejuq83di341hur.apps.googleusercontent.com&redirect_uri=http%3A%2F%2Flocalhost%3A8085%2F&scope=openid+https%3A%2F%2Fwww.googleapis.com%2Fauth%2Fuserinfo.email+https%3A%2F%2Fwww.googleapis.com%2Fauth%2Fcloud-platform+https%3A%2F%2Fwww.googleapis.com%2Fauth%2Fsqlservice.login+https%3A%2F%2Fwww.googleapis.com%2Fauth%2Faccounts.reauth&state=13UJvRSErENH3Mq5EvUMr1Il1Vgjh6&access_type=offline&code_challenge=OVnR80Pz50PaCg1I80k4Rhgp33vjqLAEqDzH9049-Rg&code_challenge_method=S256\r\n",
      "\r\n",
      "\r\n",
      "Credentials saved to file: [/Users/michaljarnot/.config/gcloud/application_default_credentials.json]\r\n",
      "\r\n",
      "These credentials will be used by any library that requests Application Default Credentials (ADC).\r\n",
      "\r\n",
      "Quota project \"some-app-to-deploy-3\" was added to ADC which can be used by Google client libraries for billing and quota. Note that some services may still bill the project owning the resource.\r\n"
     ]
    }
   ],
   "execution_count": 5
  },
  {
   "metadata": {},
   "cell_type": "markdown",
   "source": "Link billing account to your project.",
   "id": "f3536b1af47915d9"
  },
  {
   "metadata": {
    "ExecuteTime": {
     "end_time": "2024-07-22T12:48:22.868480Z",
     "start_time": "2024-07-22T12:48:22.613667Z"
    }
   },
   "cell_type": "code",
   "source": [
    "import webbrowser\n",
    "billing_account_link = \"https://console.cloud.google.com/billing/linkedaccount?hl=en&project=\" + project_id\n",
    "webbrowser.open(billing_account_link)"
   ],
   "id": "5f288ed4763eea6",
   "outputs": [
    {
     "data": {
      "text/plain": [
       "True"
      ]
     },
     "execution_count": 6,
     "metadata": {},
     "output_type": "execute_result"
    }
   ],
   "execution_count": 6
  },
  {
   "metadata": {},
   "cell_type": "markdown",
   "source": "Enable necessary GCP services (this command may take a while to complete)",
   "id": "59b8802ca5d52ad9"
  },
  {
   "metadata": {
    "ExecuteTime": {
     "end_time": "2024-07-22T12:50:27.213369Z",
     "start_time": "2024-07-22T12:48:37.040586Z"
    }
   },
   "cell_type": "code",
   "source": [
    "!gcloud services enable \\\n",
    "    artifactregistry.googleapis.com \\\n",
    "    compute.googleapis.com \\\n",
    "    cloudbuild.googleapis.com \\\n",
    "    secretmanager.googleapis.com \\\n",
    "    sqladmin.googleapis.com \\\n",
    "    storage.googleapis.com \\\n",
    "    iam.googleapis.com \\\n",
    "    cloudresourcemanager.googleapis.com \\\n",
    "    run.googleapis.com \\\n",
    "    vpcaccess.googleapis.com \\\n",
    "    servicenetworking.googleapis.com \\\n",
    "    cloudapis.googleapis.com \\\n",
    "    containerregistry.googleapis.com"
   ],
   "id": "dd706488b4284320",
   "outputs": [
    {
     "name": "stdout",
     "output_type": "stream",
     "text": [
      "Operation \"operations/acf.p2-11155245814-ba2e7e71-1ad2-4cc4-9f69-295762ecfb17\" finished successfully.\r\n"
     ]
    }
   ],
   "execution_count": 7
  },
  {
   "metadata": {},
   "cell_type": "markdown",
   "source": "Create GCP bucket for terraform state.",
   "id": "5a43f5cca0fe0c02"
  },
  {
   "metadata": {
    "ExecuteTime": {
     "end_time": "2024-07-22T12:50:34.861594Z",
     "start_time": "2024-07-22T12:50:31.578254Z"
    }
   },
   "cell_type": "code",
   "source": "!gsutil mb -l {region} gs://{bucket_name}/",
   "id": "94ab381b931937bd",
   "outputs": [
    {
     "name": "stdout",
     "output_type": "stream",
     "text": [
      "Creating gs://bucket-for-some-app-infra-3/...\r\n"
     ]
    }
   ],
   "execution_count": 8
  },
  {
   "metadata": {
    "ExecuteTime": {
     "end_time": "2024-07-22T12:50:38.371033Z",
     "start_time": "2024-07-22T12:50:36.227348Z"
    }
   },
   "cell_type": "code",
   "source": "!gsutil versioning set on gs://{bucket_name}/",
   "id": "3de9db3fdeea9626",
   "outputs": [
    {
     "name": "stdout",
     "output_type": "stream",
     "text": [
      "Enabling versioning for gs://bucket-for-some-app-infra-3/...\r\n"
     ]
    }
   ],
   "execution_count": 9
  },
  {
   "metadata": {},
   "cell_type": "code",
   "outputs": [],
   "execution_count": null,
   "source": "",
   "id": "28fdd555e0962dad"
  }
 ],
 "metadata": {
  "kernelspec": {
   "display_name": "Python 3",
   "language": "python",
   "name": "python3"
  },
  "language_info": {
   "codemirror_mode": {
    "name": "ipython",
    "version": 2
   },
   "file_extension": ".py",
   "mimetype": "text/x-python",
   "name": "python",
   "nbconvert_exporter": "python",
   "pygments_lexer": "ipython2",
   "version": "2.7.6"
  }
 },
 "nbformat": 4,
 "nbformat_minor": 5
}
