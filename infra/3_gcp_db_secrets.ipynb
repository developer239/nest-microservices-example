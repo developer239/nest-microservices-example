{
 "cells": [
  {
   "metadata": {},
   "cell_type": "markdown",
   "source": "# GCP Database and Secrets",
   "id": "6ed6db8fea48bf97"
  },
  {
   "metadata": {},
   "cell_type": "markdown",
   "source": [
    "Working with secret manager in Terraform is cumbersome so we will create secrets for our SQL services manually using the GCP CLI.\n",
    "\n",
    "Note that database information is hard-coded. If project_vars[\"databases\"] changes (more databases were added) you need to reflect the changes in the following script."
   ],
   "id": "708f147dda33abee"
  },
  {
   "metadata": {},
   "cell_type": "markdown",
   "source": "Setup local variables.",
   "id": "9395ebff19bfb71e"
  },
  {
   "metadata": {},
   "cell_type": "markdown",
   "source": "Do NOT FORGET to change the values of the variables below.",
   "id": "a930ea3e8a72dc2b"
  },
  {
   "metadata": {
    "ExecuteTime": {
     "end_time": "2024-07-22T12:50:49.793634Z",
     "start_time": "2024-07-22T12:50:49.782979Z"
    }
   },
   "cell_type": "code",
   "source": [
    "from project_vars import project_variables\n",
    "\n",
    "db_auth_user_secret_id = project_variables[\"databases\"][\"auth\"][\"user_secret_id\"]\n",
    "db_auth_password_secret_id = project_variables[\"databases\"][\"auth\"][\"password_secret_id\"]\n",
    "\n",
    "db_events_user_secret_id = project_variables[\"databases\"][\"events\"][\"user_secret_id\"]\n",
    "db_events_password_secret_id = project_variables[\"databases\"][\"events\"][\"password_secret_id\"]\n",
    "\n",
    "## !!\n",
    "## !! CHANGE THESE TO YOUR OWN VALUES AND DO NOT COMMIT CHANGES\n",
    "## !! \n",
    "auth_db_user = \"auth_user\"\n",
    "auth_db_password = \"auth-db-password\"\n",
    "\n",
    "events_db_user = \"events_user\"\n",
    "events_db_password = \"auth-db-password\""
   ],
   "id": "86babdcfd9134837",
   "outputs": [],
   "execution_count": 1
  },
  {
   "metadata": {},
   "cell_type": "markdown",
   "source": "Set the database secrets in GCP.",
   "id": "6627e414e4d5f270"
  },
  {
   "metadata": {
    "ExecuteTime": {
     "end_time": "2024-07-22T12:51:12.269975Z",
     "start_time": "2024-07-22T12:50:52.051796Z"
    }
   },
   "cell_type": "code",
   "source": [
    "# auth\n",
    "!gcloud secrets create {db_auth_user_secret_id} --replication-policy=\"automatic\"\n",
    "!echo -n {auth_db_user} | gcloud secrets versions add {db_auth_user_secret_id} --data-file=-\n",
    "\n",
    "!gcloud secrets create {db_auth_password_secret_id} --replication-policy=\"automatic\"\n",
    "!echo -n {auth_db_password} | gcloud secrets versions add {db_auth_password_secret_id} --data-file=-\n",
    "\n",
    "# events\n",
    "!gcloud secrets create {db_events_user_secret_id} --replication-policy=\"automatic\"\n",
    "!echo -n {events_db_user} | gcloud secrets versions add {db_events_user_secret_id} --data-file=-\n",
    "\n",
    "!gcloud secrets create {db_events_password_secret_id} --replication-policy=\"automatic\"\n",
    "!echo -n {events_db_password} | gcloud secrets versions add {db_events_password_secret_id} --data-file=-"
   ],
   "id": "ae504dc16da0adfb",
   "outputs": [
    {
     "name": "stdout",
     "output_type": "stream",
     "text": [
      "Created secret [dev-auth-db-user].\r\n",
      "Created version [1] of the secret [dev-auth-db-user].\r\n",
      "Created secret [dev-auth-db-password].\r\n",
      "Created version [1] of the secret [dev-auth-db-password].\r\n",
      "Created secret [dev-events-db-user].\r\n",
      "Created version [1] of the secret [dev-events-db-user].\r\n",
      "Created secret [dev-events-db-password].\r\n",
      "Created version [1] of the secret [dev-events-db-password].\r\n"
     ]
    }
   ],
   "execution_count": 2
  },
  {
   "metadata": {},
   "cell_type": "code",
   "outputs": [],
   "execution_count": null,
   "source": "",
   "id": "8d38635665db02a3"
  }
 ],
 "metadata": {
  "kernelspec": {
   "display_name": "Python 3",
   "language": "python",
   "name": "python3"
  },
  "language_info": {
   "codemirror_mode": {
    "name": "ipython",
    "version": 2
   },
   "file_extension": ".py",
   "mimetype": "text/x-python",
   "name": "python",
   "nbconvert_exporter": "python",
   "pygments_lexer": "ipython2",
   "version": "2.7.6"
  }
 },
 "nbformat": 4,
 "nbformat_minor": 5
}
