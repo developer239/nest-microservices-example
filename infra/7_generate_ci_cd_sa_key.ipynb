{
 "cells": [
  {
   "metadata": {},
   "cell_type": "markdown",
   "source": "# Generate CI CD Servie Account Key File",
   "id": "f89c8c81efd3cc41"
  },
  {
   "metadata": {},
   "cell_type": "raw",
   "source": "Initialize local variables from the shared project variables file.",
   "id": "aa4d8bc524b11031"
  },
  {
   "metadata": {
    "ExecuteTime": {
     "end_time": "2024-07-21T18:41:10.512668Z",
     "start_time": "2024-07-21T18:41:10.505810Z"
    }
   },
   "cell_type": "code",
   "source": [
    "from project_vars import project_variables\n",
    "\n",
    "env = project_variables['environment']\n",
    "project_id = project_variables['project_id']\n",
    "\n",
    "# Note: changing key file name breaks \"print secrets for gh actions\" notebook\n",
    "service_account_name = f\"{env}-ci-cd-service-account\"\n",
    "service_account_email = f\"{service_account_name}@{project_id}.iam.gserviceaccount.com\"\n",
    "key_filename = f\"{env}-ci-cd-service-account-key.json\""
   ],
   "id": "13b1f3c9b2233924",
   "outputs": [],
   "execution_count": 1
  },
  {
   "metadata": {},
   "cell_type": "raw",
   "source": "Generate a new secret key for the CI/CD service account.",
   "id": "690498e4d7fac34f"
  },
  {
   "metadata": {
    "ExecuteTime": {
     "end_time": "2024-07-21T18:41:14.930437Z",
     "start_time": "2024-07-21T18:41:12.521820Z"
    }
   },
   "cell_type": "code",
   "source": [
    "gcloud_command = f\"gcloud iam service-accounts keys create ../{key_filename} --iam-account {service_account_email}\"\n",
    "\n",
    "!{gcloud_command}"
   ],
   "id": "bed1d5e800688b50",
   "outputs": [
    {
     "name": "stdout",
     "output_type": "stream",
     "text": [
      "created key [743313d67eeee8390fb7f809a18bc775d038a793] of type [json] as [../dev-ci-cd-service-account-key.json] for [dev-ci-cd-service-account@fs-microservices.iam.gserviceaccount.com]\r\n"
     ]
    }
   ],
   "execution_count": 2
  }
 ],
 "metadata": {
  "kernelspec": {
   "display_name": "Python 3",
   "language": "python",
   "name": "python3"
  },
  "language_info": {
   "codemirror_mode": {
    "name": "ipython",
    "version": 2
   },
   "file_extension": ".py",
   "mimetype": "text/x-python",
   "name": "python",
   "nbconvert_exporter": "python",
   "pygments_lexer": "ipython2",
   "version": "2.7.6"
  }
 },
 "nbformat": 4,
 "nbformat_minor": 5
}
