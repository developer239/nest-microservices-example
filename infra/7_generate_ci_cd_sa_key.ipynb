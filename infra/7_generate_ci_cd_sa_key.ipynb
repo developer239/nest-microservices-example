{
 "cells": [
  {
   "metadata": {},
   "cell_type": "markdown",
   "source": "# Generate CI CD Servie Account Key File",
   "id": "f89c8c81efd3cc41"
  },
  {
   "metadata": {},
   "cell_type": "raw",
   "source": "Initialize local variables from the shared project variables file.",
   "id": "aa4d8bc524b11031"
  },
  {
   "metadata": {},
   "cell_type": "code",
   "outputs": [],
   "execution_count": null,
   "source": [
    "from project_vars import project_variables\n",
    "\n",
    "env = project_variables['environment']\n",
    "project_id = project_variables['project_id']\n",
    "\n",
    "# Note: changing key file name breaks \"print secrets for gh actions\" notebook\n",
    "service_account_name = f\"{env}-ci-cd-service-account\"\n",
    "service_account_email = f\"{service_account_name}@{project_id}.iam.gserviceaccount.com\"\n",
    "key_filename = f\"{env}-ci-cd-service-account-key.json\""
   ],
   "id": "13b1f3c9b2233924"
  },
  {
   "metadata": {},
   "cell_type": "raw",
   "source": "Generate a new secret key for the CI/CD service account.",
   "id": "690498e4d7fac34f"
  },
  {
   "metadata": {},
   "cell_type": "code",
   "outputs": [],
   "execution_count": null,
   "source": [
    "gcloud_command = f\"gcloud iam service-accounts keys create ../{key_filename} --iam-account {service_account_email}\"\n",
    "\n",
    "!{gcloud_command}"
   ],
   "id": "bed1d5e800688b50"
  }
 ],
 "metadata": {
  "kernelspec": {
   "display_name": "Python 3",
   "language": "python",
   "name": "python3"
  },
  "language_info": {
   "codemirror_mode": {
    "name": "ipython",
    "version": 2
   },
   "file_extension": ".py",
   "mimetype": "text/x-python",
   "name": "python",
   "nbconvert_exporter": "python",
   "pygments_lexer": "ipython2",
   "version": "2.7.6"
  }
 },
 "nbformat": 4,
 "nbformat_minor": 5
}
