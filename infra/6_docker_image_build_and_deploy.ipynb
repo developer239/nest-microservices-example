{
 "cells": [
  {
   "metadata": {},
   "cell_type": "markdown",
   "source": "# Docker Image Build & Deploy",
   "id": "f89c8c81efd3cc41"
  },
  {
   "metadata": {},
   "cell_type": "raw",
   "source": "Initialize local variables from the shared project variables file.",
   "id": "aa4d8bc524b11031"
  },
  {
   "metadata": {},
   "cell_type": "code",
   "outputs": [],
   "execution_count": null,
   "source": [
    "from project_vars import project_variables\n",
    "\n",
    "env = project_variables['environment']\n",
    "project_id = project_variables['project_id']\n",
    "project_name = project_variables['project_name']\n",
    "region = project_variables['region']"
   ],
   "id": "13b1f3c9b2233924"
  },
  {
   "metadata": {},
   "cell_type": "raw",
   "source": "This notebook is often used standalone to build and deploy a docker image. So we want to authenticate to GCP again.",
   "id": "690498e4d7fac34f"
  },
  {
   "metadata": {},
   "cell_type": "code",
   "outputs": [],
   "execution_count": null,
   "source": "!gcloud auth login",
   "id": "b75eaabf19a37cbe"
  },
  {
   "metadata": {},
   "cell_type": "code",
   "outputs": [],
   "execution_count": null,
   "source": "!gcloud config set project {project_id}",
   "id": "6d7c2f14d08352c4"
  },
  {
   "metadata": {},
   "cell_type": "raw",
   "source": "Configure GCP to use Docker.",
   "id": "c1e78a8ee63c1c7f"
  },
  {
   "metadata": {},
   "cell_type": "code",
   "outputs": [],
   "execution_count": null,
   "source": "!gcloud auth configure-docker",
   "id": "c22b301a859f0a57"
  },
  {
   "metadata": {},
   "cell_type": "markdown",
   "source": "## Service Build & Deploy",
   "id": "19333f642218cf6e"
  },
  {
   "metadata": {},
   "cell_type": "markdown",
   "source": "You need to build and deploy as many docker images as you have services. You also need to update services array when services change in `project_vars.py` file. The following code block generates select field that you can use to choose what service you want to deploy.",
   "id": "7e5c2f95ab8aa818"
  },
  {
   "metadata": {
    "ExecuteTime": {
     "end_time": "2024-07-21T15:57:01.400342Z",
     "start_time": "2024-07-21T15:57:01.381198Z"
    }
   },
   "cell_type": "code",
   "source": [
    "import ipywidgets as widgets\n",
    "from IPython.display import display\n",
    "\n",
    "services = [\n",
    "    {\"name\": \"auth-service\", \"folder\": \"service-auth\"},\n",
    "    {\"name\": \"events-service\", \"folder\": \"service-events\"},\n",
    "    {\"name\": \"gateway-service\", \"folder\": \"service-gateway\"},\n",
    "    {\"name\": \"storybook-service\", \"folder\": \"storybook\"},\n",
    "    {\"name\": \"web-service\", \"folder\": \"web\"}\n",
    "]\n",
    "\n",
    "# Create a dropdown widget\n",
    "dropdown = widgets.Dropdown(\n",
    "    options=[(f\"{s['name']} ({s['folder']})\", s) for s in services],\n",
    "    description='Select a service:',\n",
    "    style={'description_width': 'initial'}\n",
    ")\n",
    "\n",
    "# Create output widgets to display the selected values\n",
    "output_name = widgets.HTML()\n",
    "output_folder = widgets.HTML()\n",
    "\n",
    "def on_change(change):\n",
    "    if change['type'] == 'change' and change['name'] == 'value':\n",
    "        selected = change['new']\n",
    "        global service_name, service_folder\n",
    "        service_name = selected['name']\n",
    "        service_folder = selected['folder']\n",
    "        output_name.value = f\"<b>service_name</b> = \\\"{service_name}\\\"\"\n",
    "        output_folder.value = f\"<b>service_folder</b> = \\\"{service_folder}\\\"\"\n",
    "\n",
    "# Attach the callback to the dropdown\n",
    "dropdown.observe(on_change, names='value')\n",
    "\n",
    "# Display the widgets\n",
    "display(dropdown, output_name, output_folder)"
   ],
   "id": "c1c420e992faa2be",
   "outputs": [
    {
     "data": {
      "text/plain": [
       "Dropdown(description='Select a service:', options=(('auth-service (service-auth)', {'name': 'auth-service', 'f…"
      ],
      "application/vnd.jupyter.widget-view+json": {
       "version_major": 2,
       "version_minor": 0,
       "model_id": "86151bf2a2304074b4174d5cfd7b4cc9"
      }
     },
     "metadata": {},
     "output_type": "display_data"
    },
    {
     "data": {
      "text/plain": [
       "HTML(value='')"
      ],
      "application/vnd.jupyter.widget-view+json": {
       "version_major": 2,
       "version_minor": 0,
       "model_id": "325bd44f64f448bc8f2c992d0a2c9348"
      }
     },
     "metadata": {},
     "output_type": "display_data"
    },
    {
     "data": {
      "text/plain": [
       "HTML(value='')"
      ],
      "application/vnd.jupyter.widget-view+json": {
       "version_major": 2,
       "version_minor": 0,
       "model_id": "ae95df92b3054005a09b6a571cbc8b54"
      }
     },
     "metadata": {},
     "output_type": "display_data"
    }
   ],
   "execution_count": 7
  },
  {
   "metadata": {},
   "cell_type": "raw",
   "source": "Build the Docker image using the Dockerfile located in the parent directory.",
   "id": "103689e66c40aa50"
  },
  {
   "metadata": {},
   "cell_type": "code",
   "outputs": [],
   "execution_count": null,
   "source": "!docker build --no-cache -t {region}-docker.pkg.dev/{project_id}/{env}-repo/{env}-{service_name}:latest -f ../apps/{service_folder}/Dockerfile ../",
   "id": "e76e6458ae92a32d"
  },
  {
   "metadata": {},
   "cell_type": "raw",
   "source": "Push Docker Image to Artifact Registry",
   "id": "ed3a6cc5c488ec8a"
  },
  {
   "metadata": {},
   "cell_type": "code",
   "outputs": [],
   "execution_count": null,
   "source": "!docker push {region}-docker.pkg.dev/{project_id}/{env}-repo/{env}-{service_name}:latest",
   "id": "d74457972b53cbe8"
  },
  {
   "metadata": {},
   "cell_type": "raw",
   "source": "Deploy to Google Cloud Run",
   "id": "1e4d84de51f22d17"
  },
  {
   "metadata": {},
   "cell_type": "code",
   "outputs": [],
   "execution_count": null,
   "source": "!gcloud run deploy {project_id}-{env}-{service_name} --image {region}-docker.pkg.dev/{project_id}/{env}-repo/{env}-{service_name}:latest --platform managed --region={region} --allow-unauthenticated",
   "id": "be6e68d3a44f43fa"
  }
 ],
 "metadata": {
  "kernelspec": {
   "display_name": "Python 3",
   "language": "python",
   "name": "python3"
  },
  "language_info": {
   "codemirror_mode": {
    "name": "ipython",
    "version": 2
   },
   "file_extension": ".py",
   "mimetype": "text/x-python",
   "name": "python",
   "nbconvert_exporter": "python",
   "pygments_lexer": "ipython2",
   "version": "2.7.6"
  }
 },
 "nbformat": 4,
 "nbformat_minor": 5
}
