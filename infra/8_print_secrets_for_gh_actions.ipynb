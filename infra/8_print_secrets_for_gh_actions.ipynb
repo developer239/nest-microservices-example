{
 "cells": [
  {
   "metadata": {},
   "cell_type": "markdown",
   "source": "# Print Secrets for GitHub Actions",
   "id": "f89c8c81efd3cc41"
  },
  {
   "metadata": {},
   "cell_type": "markdown",
   "source": "Initialize local variables from the shared project variables file.",
   "id": "fb99e85426125fba"
  },
  {
   "metadata": {
    "ExecuteTime": {
     "end_time": "2024-07-21T18:41:43.557250Z",
     "start_time": "2024-07-21T18:41:43.550675Z"
    }
   },
   "cell_type": "code",
   "source": [
    "from project_vars import project_variables\n",
    "\n",
    "env = project_variables['environment']\n",
    "project_id = project_variables['project_id']\n",
    "region = project_variables['region']\n",
    "\n",
    "service_account_name = f\"{env}-ci-cd-service-account\"\n",
    "service_account_email = f\"{service_account_name}@{project_id}.iam.gserviceaccount.com\"\n",
    "key_filename = f\"{env}-ci-cd-service-account-key.json\"\n",
    "\n",
    "repository = f\"{env}-repo\""
   ],
   "id": "13b1f3c9b2233924",
   "outputs": [],
   "execution_count": 1
  },
  {
   "metadata": {},
   "cell_type": "markdown",
   "source": "Print secrets that you can use in GitHub Actions.",
   "id": "fde60137c5a6a8b5"
  },
  {
   "metadata": {
    "ExecuteTime": {
     "end_time": "2024-07-21T18:41:45.346100Z",
     "start_time": "2024-07-21T18:41:45.335010Z"
    }
   },
   "cell_type": "code",
   "source": [
    "print(f\"GCP_PROJECT_ID: {project_id}\")\n",
    "print(f\"GCP_REGION: {region}\")\n",
    "print(f\"GCP_{env.upper()}_SA_KEY: >>contents of {key_filename}<<\")\n",
    "print(f\"GCP_{env.upper()}_REPOSITORY: {project_id}-{env}-repo\")"
   ],
   "id": "bed1d5e800688b50",
   "outputs": [
    {
     "name": "stdout",
     "output_type": "stream",
     "text": [
      "GCP_PROJECT_ID: fs-microservices\n",
      "GCP_REGION: us-central1\n",
      "GCP_DEV_SA_KEY: >>contents of dev-ci-cd-service-account-key.json<<\n",
      "GCP_DEV_REPOSITORY: fs-microservices-dev-repo\n"
     ]
    }
   ],
   "execution_count": 2
  }
 ],
 "metadata": {
  "kernelspec": {
   "display_name": "Python 3",
   "language": "python",
   "name": "python3"
  },
  "language_info": {
   "codemirror_mode": {
    "name": "ipython",
    "version": 2
   },
   "file_extension": ".py",
   "mimetype": "text/x-python",
   "name": "python",
   "nbconvert_exporter": "python",
   "pygments_lexer": "ipython2",
   "version": "2.7.6"
  }
 },
 "nbformat": 4,
 "nbformat_minor": 5
}
