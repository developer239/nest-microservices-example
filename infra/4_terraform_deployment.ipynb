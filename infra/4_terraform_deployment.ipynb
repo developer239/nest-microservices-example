{
 "cells": [
  {
   "metadata": {},
   "cell_type": "markdown",
   "source": "# Terraform Deployment",
   "id": "6ed6db8fea48bf97"
  },
  {
   "metadata": {},
   "cell_type": "markdown",
   "source": "Initialize local variables from the shared project variables file.",
   "id": "5569883962523c32"
  },
  {
   "metadata": {
    "ExecuteTime": {
     "end_time": "2024-07-21T22:15:23.372115Z",
     "start_time": "2024-07-21T22:15:23.365390Z"
    }
   },
   "cell_type": "code",
   "source": [
    "from project_vars import project_variables\n",
    "\n",
    "env = project_variables['environment']"
   ],
   "id": "40128febb3ecec7",
   "outputs": [],
   "execution_count": 1
  },
  {
   "metadata": {},
   "cell_type": "markdown",
   "source": "We need to change the current working directory to the `environments/{env}` folder so that terraform commands can be executed in the correct directory.",
   "id": "c924f641583f95c0"
  },
  {
   "metadata": {
    "ExecuteTime": {
     "end_time": "2024-07-21T22:15:23.378099Z",
     "start_time": "2024-07-21T22:15:23.374210Z"
    }
   },
   "cell_type": "code",
   "source": [
    "import os\n",
    "\n",
    "os.chdir(f\"./environments/{env}\")\n",
    "print(\"Current working directory:\", os.getcwd())"
   ],
   "id": "d98baa7f33877564",
   "outputs": [
    {
     "name": "stdout",
     "output_type": "stream",
     "text": [
      "Current working directory: /Users/michaljarnot/IdeaProjects/nest-microservices-example-v2/infra/environments/dev\n"
     ]
    }
   ],
   "execution_count": 2
  },
  {
   "metadata": {},
   "cell_type": "markdown",
   "source": "Initialize the terraform workspace.",
   "id": "745c335900c5d403"
  },
  {
   "metadata": {
    "ExecuteTime": {
     "end_time": "2024-07-21T22:15:29.119612Z",
     "start_time": "2024-07-21T22:15:25.457418Z"
    }
   },
   "cell_type": "code",
   "source": "!terraform init",
   "id": "ae504dc16da0adfb",
   "outputs": [
    {
     "name": "stdout",
     "output_type": "stream",
     "text": [
      "\r\n",
      "\u001B[0m\u001B[1mInitializing the backend...\u001B[0m\r\n",
      "\u001B[0m\u001B[1mInitializing modules...\u001B[0m\r\n",
      "\r\n",
      "\u001B[0m\u001B[1mInitializing provider plugins...\u001B[0m\r\n",
      "- Reusing previous version of hashicorp/google from the dependency lock file\r\n",
      "- Reusing previous version of hashicorp/google-beta from the dependency lock file\r\n",
      "- Using previously-installed hashicorp/google v5.19.0\r\n",
      "- Using previously-installed hashicorp/google-beta v5.38.0\r\n",
      "\r\n",
      "\u001B[0m\u001B[1m\u001B[32mTerraform has been successfully initialized!\u001B[0m\u001B[32m\u001B[0m\r\n",
      "\u001B[0m\u001B[32m\r\n",
      "You may now begin working with Terraform. Try running \"terraform plan\" to see\r\n",
      "any changes that are required for your infrastructure. All Terraform commands\r\n",
      "should now work.\r\n",
      "\r\n",
      "If you ever set or change modules or backend configuration for Terraform,\r\n",
      "rerun this command to reinitialize your working directory. If you forget, other\r\n",
      "commands will detect it and remind you to do so if necessary.\u001B[0m\r\n"
     ]
    }
   ],
   "execution_count": 3
  },
  {
   "metadata": {},
   "cell_type": "markdown",
   "source": "Apply the terraform changes.",
   "id": "4246d1626a096c60"
  },
  {
   "metadata": {
    "ExecuteTime": {
     "end_time": "2024-07-21T22:17:58.924714Z",
     "start_time": "2024-07-21T22:17:40.114263Z"
    }
   },
   "cell_type": "code",
   "source": "!terraform plan",
   "id": "30e5770c4f6baf72",
   "outputs": [
    {
     "name": "stdout",
     "output_type": "stream",
     "text": [
      "Acquiring state lock. This may take a few moments...\r\n",
      "\u001B[0m\u001B[1mmodule.firebase.google_project_service.firebase_api: Refreshing state... [id=fs-microservices/firebase.googleapis.com]\u001B[0m\r\n",
      "\u001B[0m\u001B[1mmodule.ci_cd_service_account.google_service_account.ci_cd: Refreshing state... [id=projects/fs-microservices/serviceAccounts/dev-ci-cd-service-account@fs-microservices.iam.gserviceaccount.com]\u001B[0m\r\n",
      "\u001B[0m\u001B[1mmodule.vpc.google_compute_network.vpc: Refreshing state... [id=projects/fs-microservices/global/networks/dev-vpc]\u001B[0m\r\n",
      "\u001B[0m\u001B[1mmodule.ci_cd_service_account.google_secret_manager_secret.ci_cd_key_secret: Refreshing state... [id=projects/fs-microservices/secrets/dev-gcp-auth-sa-key]\u001B[0m\r\n",
      "\u001B[0m\u001B[1mmodule.artifact_registry.google_artifact_registry_repository.docker_repository: Refreshing state... [id=projects/fs-microservices/locations/us-central1/repositories/dev-repo]\u001B[0m\r\n",
      "\u001B[0m\u001B[1mmodule.vpc.google_compute_global_address.private_ip_address: Refreshing state... [id=projects/fs-microservices/global/addresses/dev-private-ip]\u001B[0m\r\n",
      "\u001B[0m\u001B[1mmodule.vpc.google_compute_subnetwork.subnet: Refreshing state... [id=projects/fs-microservices/regions/us-central1/subnetworks/dev-subnet]\u001B[0m\r\n",
      "\u001B[0m\u001B[1mmodule.vpc.google_compute_router.router[0]: Refreshing state... [id=projects/fs-microservices/regions/us-central1/routers/dev-router]\u001B[0m\r\n",
      "\u001B[0m\u001B[1mmodule.vpc.google_compute_firewall.allow_internal: Refreshing state... [id=projects/fs-microservices/global/firewalls/dev-allow-internal]\u001B[0m\r\n",
      "\u001B[0m\u001B[1mmodule.vpc.google_compute_firewall.allow_iap_ssh: Refreshing state... [id=projects/fs-microservices/global/firewalls/dev-allow-iap-ssh]\u001B[0m\r\n",
      "\u001B[0m\u001B[1mmodule.vpc.google_compute_firewall.allow_egress: Refreshing state... [id=projects/fs-microservices/global/firewalls/dev-allow-egress]\u001B[0m\r\n",
      "\u001B[0m\u001B[1mmodule.vpc.google_service_networking_connection.private_vpc_connection[\"projects/fs-microservices/global/networks/dev-vpc\"]: Refreshing state... [id=projects%2Ffs-microservices%2Fglobal%2Fnetworks%2Fdev-vpc:servicenetworking.googleapis.com]\u001B[0m\r\n",
      "\u001B[0m\u001B[1mmodule.ci_cd_service_account.google_service_account_key.ci_cd_key: Refreshing state... [id=projects/fs-microservices/serviceAccounts/dev-ci-cd-service-account@fs-microservices.iam.gserviceaccount.com/keys/377e67e60f2f29e5d1d14d7d52fd8226938646a1]\u001B[0m\r\n",
      "\u001B[0m\u001B[1mmodule.ci_cd_service_account.google_project_iam_member.ci_cd_sa_permissions[\"roles/secretmanager.secretAccessor\"]: Refreshing state... [id=fs-microservices/roles/secretmanager.secretAccessor/serviceAccount:dev-ci-cd-service-account@fs-microservices.iam.gserviceaccount.com]\u001B[0m\r\n",
      "\u001B[0m\u001B[1mmodule.ci_cd_service_account.google_project_iam_member.ci_cd_sa_permissions[\"roles/editor\"]: Refreshing state... [id=fs-microservices/roles/editor/serviceAccount:dev-ci-cd-service-account@fs-microservices.iam.gserviceaccount.com]\u001B[0m\r\n",
      "\u001B[0m\u001B[1mmodule.ci_cd_service_account.google_project_iam_member.ci_cd_sa_permissions[\"roles/cloudsql.client\"]: Refreshing state... [id=fs-microservices/roles/cloudsql.client/serviceAccount:dev-ci-cd-service-account@fs-microservices.iam.gserviceaccount.com]\u001B[0m\r\n",
      "\u001B[0m\u001B[1mmodule.ci_cd_service_account.google_secret_manager_secret_version.ci_cd_key_secret_version: Refreshing state... [id=projects/526101498496/secrets/dev-gcp-auth-sa-key/versions/1]\u001B[0m\r\n",
      "\u001B[0m\u001B[1mmodule.vpc.google_vpc_access_connector.connector: Refreshing state... [id=projects/fs-microservices/locations/us-central1/connectors/dev-connector]\u001B[0m\r\n",
      "\u001B[0m\u001B[1mmodule.vpc.google_compute_router_nat.nat[0]: Refreshing state... [id=fs-microservices/us-central1/dev-router/dev-nat]\u001B[0m\r\n",
      "\u001B[0m\u001B[1mmodule.rabbitmq.data.google_compute_default_service_account.default: Reading...\u001B[0m\u001B[0m\r\n",
      "\u001B[0m\u001B[1mmodule.cloud_sql.data.google_secret_manager_secret_version.db_usernames[\"events\"]: Reading...\u001B[0m\u001B[0m\r\n",
      "\u001B[0m\u001B[1mmodule.cloud_sql.data.google_secret_manager_secret_version.db_usernames[\"auth\"]: Reading...\u001B[0m\u001B[0m\r\n",
      "\u001B[0m\u001B[1mmodule.rabbitmq.google_service_account.rabbitmq_sa: Refreshing state... [id=projects/fs-microservices/serviceAccounts/dev-rabbitmq-sa@fs-microservices.iam.gserviceaccount.com]\u001B[0m\r\n",
      "\u001B[0m\u001B[1mmodule.cloud_sql.data.google_compute_default_service_account.default: Reading...\u001B[0m\u001B[0m\r\n",
      "\u001B[0m\u001B[1mmodule.cloud_sql.data.google_secret_manager_secret_version.db_passwords[\"auth\"]: Reading...\u001B[0m\u001B[0m\r\n",
      "\u001B[0m\u001B[1mmodule.cloud_run_storybook.google_service_account.cloud_run_sa: Refreshing state... [id=projects/fs-microservices/serviceAccounts/dev-storybook-service-sa@fs-microservices.iam.gserviceaccount.com]\u001B[0m\r\n",
      "\u001B[0m\u001B[1mmodule.cloud_sql.google_compute_global_address.private_ip_address: Refreshing state... [id=projects/fs-microservices/global/addresses/dev-db-private-ip]\u001B[0m\r\n",
      "\u001B[0m\u001B[1mmodule.cloud_sql.google_sql_database_instance.postgres_instance: Refreshing state... [id=dev-db-instance]\u001B[0m\r\n",
      "\u001B[0m\u001B[1mmodule.cloud_sql.data.google_secret_manager_secret_version.db_passwords[\"events\"]: Reading...\u001B[0m\u001B[0m\r\n",
      "\u001B[0m\u001B[1mmodule.cloud_run_storybook.google_project_iam_member.cloud_run_sa_secret_manager_permissions: Refreshing state... [id=fs-microservices/roles/secretmanager.secretAccessor/serviceAccount:dev-storybook-service-sa@fs-microservices.iam.gserviceaccount.com]\u001B[0m\r\n",
      "\u001B[0m\u001B[1mmodule.cloud_sql.data.google_secret_manager_secret_version.db_passwords[\"auth\"]: Read complete after 1s [id=projects/526101498496/secrets/dev-auth-db-password/versions/1]\u001B[0m\r\n",
      "\u001B[0m\u001B[1mmodule.cloud_sql.data.google_secret_manager_secret_version.db_usernames[\"events\"]: Read complete after 1s [id=projects/526101498496/secrets/dev-events-db-user/versions/1]\u001B[0m\r\n",
      "\u001B[0m\u001B[1mmodule.cloud_run_storybook.data.google_iam_policy.cloud_run_policy: Reading...\u001B[0m\u001B[0m\r\n",
      "\u001B[0m\u001B[1mmodule.cloud_run_storybook.data.google_iam_policy.cloud_run_policy: Read complete after 0s [id=739928917]\u001B[0m\r\n",
      "\u001B[0m\u001B[1mmodule.cloud_sql.data.google_secret_manager_secret_version.db_usernames[\"auth\"]: Read complete after 1s [id=projects/526101498496/secrets/dev-auth-db-user/versions/1]\u001B[0m\r\n",
      "\u001B[0m\u001B[1mmodule.cloud_sql.google_sql_database.databases[\"events\"]: Refreshing state... [id=projects/fs-microservices/instances/dev-db-instance/databases/events_db]\u001B[0m\r\n",
      "\u001B[0m\u001B[1mmodule.cloud_sql.google_sql_database.databases[\"auth\"]: Refreshing state... [id=projects/fs-microservices/instances/dev-db-instance/databases/auth_db]\u001B[0m\r\n",
      "\u001B[0m\u001B[1mmodule.cloud_sql.data.google_secret_manager_secret_version.db_passwords[\"events\"]: Read complete after 1s [id=projects/526101498496/secrets/dev-events-db-password/versions/1]\u001B[0m\r\n",
      "\u001B[0m\u001B[1mmodule.cloud_sql.google_sql_user.database_users[\"events\"]: Refreshing state... [id=events_user//dev-db-instance]\u001B[0m\r\n",
      "\u001B[0m\u001B[1mmodule.cloud_sql.google_sql_user.database_users[\"auth\"]: Refreshing state... [id=auth_user//dev-db-instance]\u001B[0m\r\n",
      "\u001B[0m\u001B[1mmodule.cloud_run_storybook.google_cloud_run_service.service: Refreshing state... [id=locations/us-central1/namespaces/fs-microservices/services/dev-storybook-service]\u001B[0m\r\n",
      "\u001B[0m\u001B[1mmodule.rabbitmq.google_project_iam_member.rabbitmq_sa_permissions[\"roles/artifactregistry.reader\"]: Refreshing state... [id=fs-microservices/roles/artifactregistry.reader/serviceAccount:dev-rabbitmq-sa@fs-microservices.iam.gserviceaccount.com]\u001B[0m\r\n",
      "\u001B[0m\u001B[1mmodule.rabbitmq.google_project_iam_member.rabbitmq_sa_permissions[\"roles/logging.logWriter\"]: Refreshing state... [id=fs-microservices/roles/logging.logWriter/serviceAccount:dev-rabbitmq-sa@fs-microservices.iam.gserviceaccount.com]\u001B[0m\r\n",
      "\u001B[0m\u001B[1mmodule.rabbitmq.data.google_compute_default_service_account.default: Read complete after 1s [id=projects/fs-microservices/serviceAccounts/526101498496-compute@developer.gserviceaccount.com]\u001B[0m\r\n",
      "\u001B[0m\u001B[1mmodule.rabbitmq.google_project_iam_member.rabbitmq_sa_permissions[\"roles/monitoring.metricWriter\"]: Refreshing state... [id=fs-microservices/roles/monitoring.metricWriter/serviceAccount:dev-rabbitmq-sa@fs-microservices.iam.gserviceaccount.com]\u001B[0m\r\n",
      "\u001B[0m\u001B[1mmodule.cloud_sql.data.google_compute_default_service_account.default: Read complete after 1s [id=projects/fs-microservices/serviceAccounts/526101498496-compute@developer.gserviceaccount.com]\u001B[0m\r\n",
      "\u001B[0m\u001B[1mmodule.rabbitmq.google_project_iam_member.iap_tunnel_user: Refreshing state... [id=fs-microservices/roles/iap.tunnelResourceAccessor/serviceAccount:526101498496-compute@developer.gserviceaccount.com]\u001B[0m\r\n",
      "\u001B[0m\u001B[1mmodule.cloud_sql.google_project_iam_member.default_sa_cloudsql_client_permissions: Refreshing state... [id=fs-microservices/roles/cloudsql.client/serviceAccount:526101498496-compute@developer.gserviceaccount.com]\u001B[0m\r\n",
      "\u001B[0m\u001B[1mmodule.cloud_sql.google_project_iam_member.default_sa_secret_manager_permissions: Refreshing state... [id=fs-microservices/roles/secretmanager.secretAccessor/serviceAccount:526101498496-compute@developer.gserviceaccount.com]\u001B[0m\r\n",
      "\u001B[0m\u001B[1mmodule.cloud_run_storybook.google_cloud_run_service_iam_policy.app_service_iam: Refreshing state... [id=v1/projects/fs-microservices/locations/us-central1/services/dev-storybook-service]\u001B[0m\r\n",
      "\u001B[0m\u001B[1mmodule.cloud_run_storybook.google_compute_region_network_endpoint_group.cloudrun_neg: Refreshing state... [id=projects/fs-microservices/regions/us-central1/networkEndpointGroups/dev-storybook-service-neg]\u001B[0m\r\n",
      "\u001B[0m\u001B[1mmodule.rabbitmq.google_compute_instance.rabbitmq: Refreshing state... [id=projects/fs-microservices/zones/us-central1-a/instances/dev-rabbitmq]\u001B[0m\r\n",
      "\u001B[0m\u001B[1mmodule.firebase.google_firebase_project.default: Refreshing state... [id=projects/fs-microservices]\u001B[0m\r\n",
      "\u001B[0m\u001B[1mmodule.rabbitmq.google_compute_firewall.rabbitmq: Refreshing state... [id=projects/fs-microservices/global/firewalls/dev-rabbitmq-allow]\u001B[0m\r\n",
      "\u001B[0m\u001B[1mmodule.firebase.google_firebase_web_app.env_specific: Refreshing state... [id=projects/fs-microservices/webApps/1:526101498496:web:783a17bb109c49413f3465]\u001B[0m\r\n",
      "\u001B[0m\u001B[1mmodule.cloud_run_events.google_service_account.cloud_run_sa: Refreshing state... [id=projects/fs-microservices/serviceAccounts/dev-events-service-sa@fs-microservices.iam.gserviceaccount.com]\u001B[0m\r\n",
      "\u001B[0m\u001B[1mmodule.cloud_run_auth.google_service_account.cloud_run_sa: Refreshing state... [id=projects/fs-microservices/serviceAccounts/dev-auth-service-sa@fs-microservices.iam.gserviceaccount.com]\u001B[0m\r\n",
      "\u001B[0m\u001B[1mmodule.cloud_run_auth.google_project_iam_member.cloud_run_sa_secret_manager_permissions: Refreshing state... [id=fs-microservices/roles/secretmanager.secretAccessor/serviceAccount:dev-auth-service-sa@fs-microservices.iam.gserviceaccount.com]\u001B[0m\r\n",
      "\u001B[0m\u001B[1mmodule.cloud_run_auth.google_project_iam_member.cloud_run_sa_sql_client_permissions[0]: Refreshing state... [id=fs-microservices/roles/cloudsql.client/serviceAccount:dev-auth-service-sa@fs-microservices.iam.gserviceaccount.com]\u001B[0m\r\n",
      "\u001B[0m\u001B[1mmodule.cloud_run_auth.data.google_iam_policy.cloud_run_policy: Reading...\u001B[0m\u001B[0m\r\n",
      "\u001B[0m\u001B[1mmodule.cloud_run_auth.data.google_iam_policy.cloud_run_policy: Read complete after 0s [id=580184311]\u001B[0m\r\n",
      "\u001B[0m\u001B[1mmodule.cloud_run_events.google_project_iam_member.cloud_run_sa_sql_client_permissions[0]: Refreshing state... [id=fs-microservices/roles/cloudsql.client/serviceAccount:dev-events-service-sa@fs-microservices.iam.gserviceaccount.com]\u001B[0m\r\n",
      "\u001B[0m\u001B[1mmodule.cloud_run_events.data.google_iam_policy.cloud_run_policy: Reading...\u001B[0m\u001B[0m\r\n",
      "\u001B[0m\u001B[1mmodule.cloud_run_events.google_project_iam_member.cloud_run_sa_secret_manager_permissions: Refreshing state... [id=fs-microservices/roles/secretmanager.secretAccessor/serviceAccount:dev-events-service-sa@fs-microservices.iam.gserviceaccount.com]\u001B[0m\r\n",
      "\u001B[0m\u001B[1mmodule.cloud_run_events.data.google_iam_policy.cloud_run_policy: Read complete after 0s [id=3535090946]\u001B[0m\r\n",
      "\u001B[0m\u001B[1mmodule.firebase.data.google_firebase_web_app_config.env_specific: Reading...\u001B[0m\u001B[0m\r\n",
      "\u001B[0m\u001B[1mmodule.firebase.data.google_firebase_web_app_config.env_specific: Read complete after 1s [id=1:526101498496:web:783a17bb109c49413f3465]\u001B[0m\r\n",
      "\u001B[0m\u001B[1mmodule.cloud_run_auth.google_cloud_run_service.service: Refreshing state... [id=locations/us-central1/namespaces/fs-microservices/services/dev-auth-service]\u001B[0m\r\n",
      "\u001B[0m\u001B[1mmodule.cloud_run_events.google_cloud_run_service.service: Refreshing state... [id=locations/us-central1/namespaces/fs-microservices/services/dev-events-service]\u001B[0m\r\n",
      "\u001B[0m\u001B[1mmodule.cloud_run_auth.google_cloud_run_service_iam_policy.app_service_iam: Refreshing state... [id=v1/projects/fs-microservices/locations/us-central1/services/dev-auth-service]\u001B[0m\r\n",
      "\u001B[0m\u001B[1mmodule.cloud_run_auth.google_compute_region_network_endpoint_group.cloudrun_neg: Refreshing state... [id=projects/fs-microservices/regions/us-central1/networkEndpointGroups/dev-auth-service-neg]\u001B[0m\r\n",
      "\u001B[0m\u001B[1mmodule.cloud_run_events.google_cloud_run_service_iam_policy.app_service_iam: Refreshing state... [id=v1/projects/fs-microservices/locations/us-central1/services/dev-events-service]\u001B[0m\r\n",
      "\u001B[0m\u001B[1mmodule.cloud_run_events.google_compute_region_network_endpoint_group.cloudrun_neg: Refreshing state... [id=projects/fs-microservices/regions/us-central1/networkEndpointGroups/dev-events-service-neg]\u001B[0m\r\n",
      "\u001B[0m\u001B[1mmodule.cloud_run_gateway.google_service_account.cloud_run_sa: Refreshing state... [id=projects/fs-microservices/serviceAccounts/dev-gateway-service-sa@fs-microservices.iam.gserviceaccount.com]\u001B[0m\r\n",
      "\u001B[0m\u001B[1mmodule.cloud_run_gateway.google_project_iam_member.cloud_run_sa_secret_manager_permissions: Refreshing state... [id=fs-microservices/roles/secretmanager.secretAccessor/serviceAccount:dev-gateway-service-sa@fs-microservices.iam.gserviceaccount.com]\u001B[0m\r\n",
      "\u001B[0m\u001B[1mmodule.cloud_run_gateway.data.google_iam_policy.cloud_run_policy: Reading...\u001B[0m\u001B[0m\r\n",
      "\u001B[0m\u001B[1mmodule.cloud_run_gateway.data.google_iam_policy.cloud_run_policy: Read complete after 0s [id=2670789318]\u001B[0m\r\n",
      "\u001B[0m\u001B[1mmodule.cloud_run_gateway.google_cloud_run_service.service: Refreshing state... [id=locations/us-central1/namespaces/fs-microservices/services/dev-gateway-service]\u001B[0m\r\n",
      "\u001B[0m\u001B[1mmodule.cloud_run_gateway.google_cloud_run_service_iam_policy.app_service_iam: Refreshing state... [id=v1/projects/fs-microservices/locations/us-central1/services/dev-gateway-service]\u001B[0m\r\n",
      "\u001B[0m\u001B[1mmodule.cloud_run_gateway.google_compute_region_network_endpoint_group.cloudrun_neg: Refreshing state... [id=projects/fs-microservices/regions/us-central1/networkEndpointGroups/dev-gateway-service-neg]\u001B[0m\r\n",
      "\u001B[0m\u001B[1mmodule.cloud_run_web.google_service_account.cloud_run_sa: Refreshing state... [id=projects/fs-microservices/serviceAccounts/dev-web-service-sa@fs-microservices.iam.gserviceaccount.com]\u001B[0m\r\n",
      "\u001B[0m\u001B[1mmodule.cloud_run_web.google_project_iam_member.cloud_run_sa_secret_manager_permissions: Refreshing state... [id=fs-microservices/roles/secretmanager.secretAccessor/serviceAccount:dev-web-service-sa@fs-microservices.iam.gserviceaccount.com]\u001B[0m\r\n",
      "\u001B[0m\u001B[1mmodule.cloud_run_web.data.google_iam_policy.cloud_run_policy: Reading...\u001B[0m\u001B[0m\r\n",
      "\u001B[0m\u001B[1mmodule.cloud_run_web.data.google_iam_policy.cloud_run_policy: Read complete after 0s [id=426047572]\u001B[0m\r\n",
      "\u001B[0m\u001B[1mmodule.cloud_run_web.google_cloud_run_service.service: Refreshing state... [id=locations/us-central1/namespaces/fs-microservices/services/dev-web-service]\u001B[0m\r\n",
      "\u001B[0m\u001B[1mmodule.cloud_run_web.google_cloud_run_service_iam_policy.app_service_iam: Refreshing state... [id=v1/projects/fs-microservices/locations/us-central1/services/dev-web-service]\u001B[0m\r\n",
      "\u001B[0m\u001B[1mmodule.cloud_run_web.google_compute_region_network_endpoint_group.cloudrun_neg: Refreshing state... [id=projects/fs-microservices/regions/us-central1/networkEndpointGroups/dev-web-service-neg]\u001B[0m\r\n",
      "\r\n",
      "\u001B[0m\u001B[1m\u001B[32mNo changes.\u001B[0m\u001B[1m Your infrastructure matches the configuration.\u001B[0m\r\n",
      "\r\n",
      "\u001B[0mTerraform has compared your real infrastructure against your configuration and\r\n",
      "found no differences, so no changes are needed.\r\n",
      "\u001B[33m╷\u001B[0m\u001B[0m\r\n",
      "\u001B[33m│\u001B[0m \u001B[0m\u001B[1m\u001B[33mWarning: \u001B[0m\u001B[0m\u001B[1mValue for undeclared variable\u001B[0m\r\n",
      "\u001B[33m│\u001B[0m \u001B[0m\r\n",
      "\u001B[33m│\u001B[0m \u001B[0m\u001B[0mThe root module does not declare a variable named \"project_name\" but a value\r\n",
      "\u001B[33m│\u001B[0m \u001B[0mwas found in file \"terraform.tfvars\". If you meant to use this value, add a\r\n",
      "\u001B[33m│\u001B[0m \u001B[0m\"variable\" block to the configuration.\r\n",
      "\u001B[33m│\u001B[0m \u001B[0m\r\n",
      "\u001B[33m│\u001B[0m \u001B[0mTo silence these warnings, use TF_VAR_... environment variables to provide\r\n",
      "\u001B[33m│\u001B[0m \u001B[0mcertain \"global\" settings to all configurations in your organization. To\r\n",
      "\u001B[33m│\u001B[0m \u001B[0mreduce the verbosity of these warnings, use the -compact-warnings option.\r\n",
      "\u001B[33m╵\u001B[0m\u001B[0m\r\n",
      "\u001B[33m╷\u001B[0m\u001B[0m\r\n",
      "\u001B[33m│\u001B[0m \u001B[0m\u001B[1m\u001B[33mWarning: \u001B[0m\u001B[0m\u001B[1mValue for undeclared variable\u001B[0m\r\n",
      "\u001B[33m│\u001B[0m \u001B[0m\r\n",
      "\u001B[33m│\u001B[0m \u001B[0m\u001B[0mThe root module does not declare a variable named \"bucket_name\" but a value\r\n",
      "\u001B[33m│\u001B[0m \u001B[0mwas found in file \"terraform.tfvars\". If you meant to use this value, add a\r\n",
      "\u001B[33m│\u001B[0m \u001B[0m\"variable\" block to the configuration.\r\n",
      "\u001B[33m│\u001B[0m \u001B[0m\r\n",
      "\u001B[33m│\u001B[0m \u001B[0mTo silence these warnings, use TF_VAR_... environment variables to provide\r\n",
      "\u001B[33m│\u001B[0m \u001B[0mcertain \"global\" settings to all configurations in your organization. To\r\n",
      "\u001B[33m│\u001B[0m \u001B[0mreduce the verbosity of these warnings, use the -compact-warnings option.\r\n",
      "\u001B[33m╵\u001B[0m\u001B[0m\r\n"
     ]
    }
   ],
   "execution_count": 7
  },
  {
   "metadata": {},
   "cell_type": "markdown",
   "source": "Note: The following command will fail with an error because we haven't uploaded Docker image yet.",
   "id": "4429336c7e6a93ce"
  },
  {
   "metadata": {},
   "cell_type": "markdown",
   "source": "**!! Ideally you want to comment out all services in the `main.tf` file and when you are finished with all the other notebooks, you can uncomment the services and run terraform apply again. !!**",
   "id": "fc364056d1724fb6"
  },
  {
   "metadata": {
    "ExecuteTime": {
     "end_time": "2024-07-21T22:17:36.243504Z",
     "start_time": "2024-07-21T22:17:17.518093Z"
    }
   },
   "cell_type": "code",
   "source": "!terraform apply --auto-approve",
   "id": "69a590cffcf3bb1c",
   "outputs": [
    {
     "name": "stdout",
     "output_type": "stream",
     "text": [
      "Acquiring state lock. This may take a few moments...\r\n",
      "\u001B[0m\u001B[1mmodule.firebase.google_project_service.firebase_api: Refreshing state... [id=fs-microservices/firebase.googleapis.com]\u001B[0m\r\n",
      "\u001B[0m\u001B[1mmodule.ci_cd_service_account.google_service_account.ci_cd: Refreshing state... [id=projects/fs-microservices/serviceAccounts/dev-ci-cd-service-account@fs-microservices.iam.gserviceaccount.com]\u001B[0m\r\n",
      "\u001B[0m\u001B[1mmodule.vpc.google_compute_network.vpc: Refreshing state... [id=projects/fs-microservices/global/networks/dev-vpc]\u001B[0m\r\n",
      "\u001B[0m\u001B[1mmodule.ci_cd_service_account.google_secret_manager_secret.ci_cd_key_secret: Refreshing state... [id=projects/fs-microservices/secrets/dev-gcp-auth-sa-key]\u001B[0m\r\n",
      "\u001B[0m\u001B[1mmodule.artifact_registry.google_artifact_registry_repository.docker_repository: Refreshing state... [id=projects/fs-microservices/locations/us-central1/repositories/dev-repo]\u001B[0m\r\n",
      "\u001B[0m\u001B[1mmodule.vpc.google_compute_subnetwork.subnet: Refreshing state... [id=projects/fs-microservices/regions/us-central1/subnetworks/dev-subnet]\u001B[0m\r\n",
      "\u001B[0m\u001B[1mmodule.vpc.google_compute_firewall.allow_iap_ssh: Refreshing state... [id=projects/fs-microservices/global/firewalls/dev-allow-iap-ssh]\u001B[0m\r\n",
      "\u001B[0m\u001B[1mmodule.vpc.google_compute_firewall.allow_egress: Refreshing state... [id=projects/fs-microservices/global/firewalls/dev-allow-egress]\u001B[0m\r\n",
      "\u001B[0m\u001B[1mmodule.vpc.google_compute_router.router[0]: Refreshing state... [id=projects/fs-microservices/regions/us-central1/routers/dev-router]\u001B[0m\r\n",
      "\u001B[0m\u001B[1mmodule.vpc.google_compute_firewall.allow_internal: Refreshing state... [id=projects/fs-microservices/global/firewalls/dev-allow-internal]\u001B[0m\r\n",
      "\u001B[0m\u001B[1mmodule.vpc.google_compute_global_address.private_ip_address: Refreshing state... [id=projects/fs-microservices/global/addresses/dev-private-ip]\u001B[0m\r\n",
      "\u001B[0m\u001B[1mmodule.ci_cd_service_account.google_project_iam_member.ci_cd_sa_permissions[\"roles/cloudsql.client\"]: Refreshing state... [id=fs-microservices/roles/cloudsql.client/serviceAccount:dev-ci-cd-service-account@fs-microservices.iam.gserviceaccount.com]\u001B[0m\r\n",
      "\u001B[0m\u001B[1mmodule.ci_cd_service_account.google_service_account_key.ci_cd_key: Refreshing state... [id=projects/fs-microservices/serviceAccounts/dev-ci-cd-service-account@fs-microservices.iam.gserviceaccount.com/keys/377e67e60f2f29e5d1d14d7d52fd8226938646a1]\u001B[0m\r\n",
      "\u001B[0m\u001B[1mmodule.ci_cd_service_account.google_project_iam_member.ci_cd_sa_permissions[\"roles/secretmanager.secretAccessor\"]: Refreshing state... [id=fs-microservices/roles/secretmanager.secretAccessor/serviceAccount:dev-ci-cd-service-account@fs-microservices.iam.gserviceaccount.com]\u001B[0m\r\n",
      "\u001B[0m\u001B[1mmodule.ci_cd_service_account.google_project_iam_member.ci_cd_sa_permissions[\"roles/editor\"]: Refreshing state... [id=fs-microservices/roles/editor/serviceAccount:dev-ci-cd-service-account@fs-microservices.iam.gserviceaccount.com]\u001B[0m\r\n",
      "\u001B[0m\u001B[1mmodule.vpc.google_service_networking_connection.private_vpc_connection[\"projects/fs-microservices/global/networks/dev-vpc\"]: Refreshing state... [id=projects%2Ffs-microservices%2Fglobal%2Fnetworks%2Fdev-vpc:servicenetworking.googleapis.com]\u001B[0m\r\n",
      "\u001B[0m\u001B[1mmodule.vpc.google_vpc_access_connector.connector: Refreshing state... [id=projects/fs-microservices/locations/us-central1/connectors/dev-connector]\u001B[0m\r\n",
      "\u001B[0m\u001B[1mmodule.ci_cd_service_account.google_secret_manager_secret_version.ci_cd_key_secret_version: Refreshing state... [id=projects/526101498496/secrets/dev-gcp-auth-sa-key/versions/1]\u001B[0m\r\n",
      "\u001B[0m\u001B[1mmodule.vpc.google_compute_router_nat.nat[0]: Refreshing state... [id=fs-microservices/us-central1/dev-router/dev-nat]\u001B[0m\r\n",
      "\u001B[0m\u001B[1mmodule.rabbitmq.data.google_compute_default_service_account.default: Reading...\u001B[0m\u001B[0m\r\n",
      "\u001B[0m\u001B[1mmodule.cloud_sql.data.google_compute_default_service_account.default: Reading...\u001B[0m\u001B[0m\r\n",
      "\u001B[0m\u001B[1mmodule.cloud_sql.google_compute_global_address.private_ip_address: Refreshing state... [id=projects/fs-microservices/global/addresses/dev-db-private-ip]\u001B[0m\r\n",
      "\u001B[0m\u001B[1mmodule.rabbitmq.google_service_account.rabbitmq_sa: Refreshing state... [id=projects/fs-microservices/serviceAccounts/dev-rabbitmq-sa@fs-microservices.iam.gserviceaccount.com]\u001B[0m\r\n",
      "\u001B[0m\u001B[1mmodule.cloud_sql.data.google_secret_manager_secret_version.db_usernames[\"events\"]: Reading...\u001B[0m\u001B[0m\r\n",
      "\u001B[0m\u001B[1mmodule.cloud_sql.data.google_secret_manager_secret_version.db_usernames[\"auth\"]: Reading...\u001B[0m\u001B[0m\r\n",
      "\u001B[0m\u001B[1mmodule.cloud_sql.data.google_secret_manager_secret_version.db_passwords[\"auth\"]: Reading...\u001B[0m\u001B[0m\r\n",
      "\u001B[0m\u001B[1mmodule.cloud_sql.data.google_secret_manager_secret_version.db_passwords[\"events\"]: Reading...\u001B[0m\u001B[0m\r\n",
      "\u001B[0m\u001B[1mmodule.cloud_sql.google_sql_database_instance.postgres_instance: Refreshing state... [id=dev-db-instance]\u001B[0m\r\n",
      "\u001B[0m\u001B[1mmodule.cloud_run_storybook.google_service_account.cloud_run_sa: Refreshing state... [id=projects/fs-microservices/serviceAccounts/dev-storybook-service-sa@fs-microservices.iam.gserviceaccount.com]\u001B[0m\r\n",
      "\u001B[0m\u001B[1mmodule.cloud_sql.data.google_secret_manager_secret_version.db_usernames[\"events\"]: Read complete after 1s [id=projects/526101498496/secrets/dev-events-db-user/versions/1]\u001B[0m\r\n",
      "\u001B[0m\u001B[1mmodule.rabbitmq.google_project_iam_member.rabbitmq_sa_permissions[\"roles/monitoring.metricWriter\"]: Refreshing state... [id=fs-microservices/roles/monitoring.metricWriter/serviceAccount:dev-rabbitmq-sa@fs-microservices.iam.gserviceaccount.com]\u001B[0m\r\n",
      "\u001B[0m\u001B[1mmodule.cloud_sql.data.google_secret_manager_secret_version.db_passwords[\"events\"]: Read complete after 1s [id=projects/526101498496/secrets/dev-events-db-password/versions/1]\u001B[0m\r\n",
      "\u001B[0m\u001B[1mmodule.rabbitmq.google_project_iam_member.rabbitmq_sa_permissions[\"roles/artifactregistry.reader\"]: Refreshing state... [id=fs-microservices/roles/artifactregistry.reader/serviceAccount:dev-rabbitmq-sa@fs-microservices.iam.gserviceaccount.com]\u001B[0m\r\n",
      "\u001B[0m\u001B[1mmodule.rabbitmq.google_project_iam_member.rabbitmq_sa_permissions[\"roles/logging.logWriter\"]: Refreshing state... [id=fs-microservices/roles/logging.logWriter/serviceAccount:dev-rabbitmq-sa@fs-microservices.iam.gserviceaccount.com]\u001B[0m\r\n",
      "\u001B[0m\u001B[1mmodule.cloud_sql.data.google_secret_manager_secret_version.db_passwords[\"auth\"]: Read complete after 1s [id=projects/526101498496/secrets/dev-auth-db-password/versions/1]\u001B[0m\r\n",
      "\u001B[0m\u001B[1mmodule.cloud_sql.data.google_secret_manager_secret_version.db_usernames[\"auth\"]: Read complete after 1s [id=projects/526101498496/secrets/dev-auth-db-user/versions/1]\u001B[0m\r\n",
      "\u001B[0m\u001B[1mmodule.cloud_sql.google_sql_database.databases[\"auth\"]: Refreshing state... [id=projects/fs-microservices/instances/dev-db-instance/databases/auth_db]\u001B[0m\r\n",
      "\u001B[0m\u001B[1mmodule.cloud_sql.google_sql_user.database_users[\"events\"]: Refreshing state... [id=events_user//dev-db-instance]\u001B[0m\r\n",
      "\u001B[0m\u001B[1mmodule.cloud_sql.google_sql_user.database_users[\"auth\"]: Refreshing state... [id=auth_user//dev-db-instance]\u001B[0m\r\n",
      "\u001B[0m\u001B[1mmodule.cloud_sql.google_sql_database.databases[\"events\"]: Refreshing state... [id=projects/fs-microservices/instances/dev-db-instance/databases/events_db]\u001B[0m\r\n",
      "\u001B[0m\u001B[1mmodule.cloud_run_storybook.google_project_iam_member.cloud_run_sa_secret_manager_permissions: Refreshing state... [id=fs-microservices/roles/secretmanager.secretAccessor/serviceAccount:dev-storybook-service-sa@fs-microservices.iam.gserviceaccount.com]\u001B[0m\r\n",
      "\u001B[0m\u001B[1mmodule.cloud_sql.data.google_compute_default_service_account.default: Read complete after 1s [id=projects/fs-microservices/serviceAccounts/526101498496-compute@developer.gserviceaccount.com]\u001B[0m\r\n",
      "\u001B[0m\u001B[1mmodule.rabbitmq.data.google_compute_default_service_account.default: Read complete after 1s [id=projects/fs-microservices/serviceAccounts/526101498496-compute@developer.gserviceaccount.com]\u001B[0m\r\n",
      "\u001B[0m\u001B[1mmodule.rabbitmq.google_project_iam_member.iap_tunnel_user: Refreshing state... [id=fs-microservices/roles/iap.tunnelResourceAccessor/serviceAccount:526101498496-compute@developer.gserviceaccount.com]\u001B[0m\r\n",
      "\u001B[0m\u001B[1mmodule.cloud_run_storybook.data.google_iam_policy.cloud_run_policy: Reading...\u001B[0m\u001B[0m\r\n",
      "\u001B[0m\u001B[1mmodule.cloud_run_storybook.data.google_iam_policy.cloud_run_policy: Read complete after 0s [id=739928917]\u001B[0m\r\n",
      "\u001B[0m\u001B[1mmodule.cloud_sql.google_project_iam_member.default_sa_cloudsql_client_permissions: Refreshing state... [id=fs-microservices/roles/cloudsql.client/serviceAccount:526101498496-compute@developer.gserviceaccount.com]\u001B[0m\r\n",
      "\u001B[0m\u001B[1mmodule.cloud_sql.google_project_iam_member.default_sa_secret_manager_permissions: Refreshing state... [id=fs-microservices/roles/secretmanager.secretAccessor/serviceAccount:526101498496-compute@developer.gserviceaccount.com]\u001B[0m\r\n",
      "\u001B[0m\u001B[1mmodule.rabbitmq.google_compute_instance.rabbitmq: Refreshing state... [id=projects/fs-microservices/zones/us-central1-a/instances/dev-rabbitmq]\u001B[0m\r\n",
      "\u001B[0m\u001B[1mmodule.cloud_run_storybook.google_cloud_run_service.service: Refreshing state... [id=locations/us-central1/namespaces/fs-microservices/services/dev-storybook-service]\u001B[0m\r\n",
      "\u001B[0m\u001B[1mmodule.cloud_run_storybook.google_cloud_run_service_iam_policy.app_service_iam: Refreshing state... [id=v1/projects/fs-microservices/locations/us-central1/services/dev-storybook-service]\u001B[0m\r\n",
      "\u001B[0m\u001B[1mmodule.cloud_run_storybook.google_compute_region_network_endpoint_group.cloudrun_neg: Refreshing state... [id=projects/fs-microservices/regions/us-central1/networkEndpointGroups/dev-storybook-service-neg]\u001B[0m\r\n",
      "\u001B[0m\u001B[1mmodule.rabbitmq.google_compute_firewall.rabbitmq: Refreshing state... [id=projects/fs-microservices/global/firewalls/dev-rabbitmq-allow]\u001B[0m\r\n",
      "\u001B[0m\u001B[1mmodule.firebase.google_firebase_project.default: Refreshing state... [id=projects/fs-microservices]\u001B[0m\r\n",
      "\u001B[0m\u001B[1mmodule.cloud_run_events.google_service_account.cloud_run_sa: Refreshing state... [id=projects/fs-microservices/serviceAccounts/dev-events-service-sa@fs-microservices.iam.gserviceaccount.com]\u001B[0m\r\n",
      "\u001B[0m\u001B[1mmodule.cloud_run_auth.google_service_account.cloud_run_sa: Refreshing state... [id=projects/fs-microservices/serviceAccounts/dev-auth-service-sa@fs-microservices.iam.gserviceaccount.com]\u001B[0m\r\n",
      "\u001B[0m\u001B[1mmodule.cloud_run_auth.google_project_iam_member.cloud_run_sa_sql_client_permissions[0]: Refreshing state... [id=fs-microservices/roles/cloudsql.client/serviceAccount:dev-auth-service-sa@fs-microservices.iam.gserviceaccount.com]\u001B[0m\r\n",
      "\u001B[0m\u001B[1mmodule.cloud_run_auth.google_project_iam_member.cloud_run_sa_secret_manager_permissions: Refreshing state... [id=fs-microservices/roles/secretmanager.secretAccessor/serviceAccount:dev-auth-service-sa@fs-microservices.iam.gserviceaccount.com]\u001B[0m\r\n",
      "\u001B[0m\u001B[1mmodule.cloud_run_auth.data.google_iam_policy.cloud_run_policy: Reading...\u001B[0m\u001B[0m\r\n",
      "\u001B[0m\u001B[1mmodule.cloud_run_auth.data.google_iam_policy.cloud_run_policy: Read complete after 0s [id=580184311]\u001B[0m\r\n",
      "\u001B[0m\u001B[1mmodule.firebase.google_firebase_web_app.env_specific: Refreshing state... [id=projects/fs-microservices/webApps/1:526101498496:web:783a17bb109c49413f3465]\u001B[0m\r\n",
      "\u001B[0m\u001B[1mmodule.cloud_run_events.google_project_iam_member.cloud_run_sa_secret_manager_permissions: Refreshing state... [id=fs-microservices/roles/secretmanager.secretAccessor/serviceAccount:dev-events-service-sa@fs-microservices.iam.gserviceaccount.com]\u001B[0m\r\n",
      "\u001B[0m\u001B[1mmodule.cloud_run_events.google_project_iam_member.cloud_run_sa_sql_client_permissions[0]: Refreshing state... [id=fs-microservices/roles/cloudsql.client/serviceAccount:dev-events-service-sa@fs-microservices.iam.gserviceaccount.com]\u001B[0m\r\n",
      "\u001B[0m\u001B[1mmodule.cloud_run_events.data.google_iam_policy.cloud_run_policy: Reading...\u001B[0m\u001B[0m\r\n",
      "\u001B[0m\u001B[1mmodule.cloud_run_events.data.google_iam_policy.cloud_run_policy: Read complete after 0s [id=3535090946]\u001B[0m\r\n",
      "\u001B[0m\u001B[1mmodule.firebase.data.google_firebase_web_app_config.env_specific: Reading...\u001B[0m\u001B[0m\r\n",
      "\u001B[0m\u001B[1mmodule.cloud_run_auth.google_cloud_run_service.service: Refreshing state... [id=locations/us-central1/namespaces/fs-microservices/services/dev-auth-service]\u001B[0m\r\n",
      "\u001B[0m\u001B[1mmodule.firebase.data.google_firebase_web_app_config.env_specific: Read complete after 1s [id=1:526101498496:web:783a17bb109c49413f3465]\u001B[0m\r\n",
      "\u001B[0m\u001B[1mmodule.cloud_run_events.google_cloud_run_service.service: Refreshing state... [id=locations/us-central1/namespaces/fs-microservices/services/dev-events-service]\u001B[0m\r\n",
      "\u001B[0m\u001B[1mmodule.cloud_run_auth.google_cloud_run_service_iam_policy.app_service_iam: Refreshing state... [id=v1/projects/fs-microservices/locations/us-central1/services/dev-auth-service]\u001B[0m\r\n",
      "\u001B[0m\u001B[1mmodule.cloud_run_auth.google_compute_region_network_endpoint_group.cloudrun_neg: Refreshing state... [id=projects/fs-microservices/regions/us-central1/networkEndpointGroups/dev-auth-service-neg]\u001B[0m\r\n",
      "\u001B[0m\u001B[1mmodule.cloud_run_events.google_cloud_run_service_iam_policy.app_service_iam: Refreshing state... [id=v1/projects/fs-microservices/locations/us-central1/services/dev-events-service]\u001B[0m\r\n",
      "\u001B[0m\u001B[1mmodule.cloud_run_events.google_compute_region_network_endpoint_group.cloudrun_neg: Refreshing state... [id=projects/fs-microservices/regions/us-central1/networkEndpointGroups/dev-events-service-neg]\u001B[0m\r\n",
      "\u001B[0m\u001B[1mmodule.cloud_run_gateway.google_service_account.cloud_run_sa: Refreshing state... [id=projects/fs-microservices/serviceAccounts/dev-gateway-service-sa@fs-microservices.iam.gserviceaccount.com]\u001B[0m\r\n",
      "\u001B[0m\u001B[1mmodule.cloud_run_gateway.google_project_iam_member.cloud_run_sa_secret_manager_permissions: Refreshing state... [id=fs-microservices/roles/secretmanager.secretAccessor/serviceAccount:dev-gateway-service-sa@fs-microservices.iam.gserviceaccount.com]\u001B[0m\r\n",
      "\u001B[0m\u001B[1mmodule.cloud_run_gateway.data.google_iam_policy.cloud_run_policy: Reading...\u001B[0m\u001B[0m\r\n",
      "\u001B[0m\u001B[1mmodule.cloud_run_gateway.data.google_iam_policy.cloud_run_policy: Read complete after 0s [id=2670789318]\u001B[0m\r\n",
      "\u001B[0m\u001B[1mmodule.cloud_run_gateway.google_cloud_run_service.service: Refreshing state... [id=locations/us-central1/namespaces/fs-microservices/services/dev-gateway-service]\u001B[0m\r\n",
      "\u001B[0m\u001B[1mmodule.cloud_run_gateway.google_cloud_run_service_iam_policy.app_service_iam: Refreshing state... [id=v1/projects/fs-microservices/locations/us-central1/services/dev-gateway-service]\u001B[0m\r\n",
      "\u001B[0m\u001B[1mmodule.cloud_run_gateway.google_compute_region_network_endpoint_group.cloudrun_neg: Refreshing state... [id=projects/fs-microservices/regions/us-central1/networkEndpointGroups/dev-gateway-service-neg]\u001B[0m\r\n",
      "\u001B[0m\u001B[1mmodule.cloud_run_web.google_service_account.cloud_run_sa: Refreshing state... [id=projects/fs-microservices/serviceAccounts/dev-web-service-sa@fs-microservices.iam.gserviceaccount.com]\u001B[0m\r\n",
      "\u001B[0m\u001B[1mmodule.cloud_run_web.google_project_iam_member.cloud_run_sa_secret_manager_permissions: Refreshing state... [id=fs-microservices/roles/secretmanager.secretAccessor/serviceAccount:dev-web-service-sa@fs-microservices.iam.gserviceaccount.com]\u001B[0m\r\n",
      "\u001B[0m\u001B[1mmodule.cloud_run_web.data.google_iam_policy.cloud_run_policy: Reading...\u001B[0m\u001B[0m\r\n",
      "\u001B[0m\u001B[1mmodule.cloud_run_web.data.google_iam_policy.cloud_run_policy: Read complete after 0s [id=426047572]\u001B[0m\r\n",
      "\u001B[0m\u001B[1mmodule.cloud_run_web.google_cloud_run_service.service: Refreshing state... [id=locations/us-central1/namespaces/fs-microservices/services/dev-web-service]\u001B[0m\r\n",
      "\u001B[0m\u001B[1mmodule.cloud_run_web.google_cloud_run_service_iam_policy.app_service_iam: Refreshing state... [id=v1/projects/fs-microservices/locations/us-central1/services/dev-web-service]\u001B[0m\r\n",
      "\u001B[0m\u001B[1mmodule.cloud_run_web.google_compute_region_network_endpoint_group.cloudrun_neg: Refreshing state... [id=projects/fs-microservices/regions/us-central1/networkEndpointGroups/dev-web-service-neg]\u001B[0m\r\n",
      "\r\n",
      "\u001B[0m\u001B[1m\u001B[32mNo changes.\u001B[0m\u001B[1m Your infrastructure matches the configuration.\u001B[0m\r\n",
      "\r\n",
      "\u001B[0mTerraform has compared your real infrastructure against your configuration and\r\n",
      "found no differences, so no changes are needed.\r\n",
      "\u001B[33m╷\u001B[0m\u001B[0m\r\n",
      "\u001B[33m│\u001B[0m \u001B[0m\u001B[1m\u001B[33mWarning: \u001B[0m\u001B[0m\u001B[1mValue for undeclared variable\u001B[0m\r\n",
      "\u001B[33m│\u001B[0m \u001B[0m\r\n",
      "\u001B[33m│\u001B[0m \u001B[0m\u001B[0mThe root module does not declare a variable named \"project_name\" but a value\r\n",
      "\u001B[33m│\u001B[0m \u001B[0mwas found in file \"terraform.tfvars\". If you meant to use this value, add a\r\n",
      "\u001B[33m│\u001B[0m \u001B[0m\"variable\" block to the configuration.\r\n",
      "\u001B[33m│\u001B[0m \u001B[0m\r\n",
      "\u001B[33m│\u001B[0m \u001B[0mTo silence these warnings, use TF_VAR_... environment variables to provide\r\n",
      "\u001B[33m│\u001B[0m \u001B[0mcertain \"global\" settings to all configurations in your organization. To\r\n",
      "\u001B[33m│\u001B[0m \u001B[0mreduce the verbosity of these warnings, use the -compact-warnings option.\r\n",
      "\u001B[33m╵\u001B[0m\u001B[0m\r\n",
      "\u001B[33m╷\u001B[0m\u001B[0m\r\n",
      "\u001B[33m│\u001B[0m \u001B[0m\u001B[1m\u001B[33mWarning: \u001B[0m\u001B[0m\u001B[1mValue for undeclared variable\u001B[0m\r\n",
      "\u001B[33m│\u001B[0m \u001B[0m\r\n",
      "\u001B[33m│\u001B[0m \u001B[0m\u001B[0mThe root module does not declare a variable named \"bucket_name\" but a value\r\n",
      "\u001B[33m│\u001B[0m \u001B[0mwas found in file \"terraform.tfvars\". If you meant to use this value, add a\r\n",
      "\u001B[33m│\u001B[0m \u001B[0m\"variable\" block to the configuration.\r\n",
      "\u001B[33m│\u001B[0m \u001B[0m\r\n",
      "\u001B[33m│\u001B[0m \u001B[0mTo silence these warnings, use TF_VAR_... environment variables to provide\r\n",
      "\u001B[33m│\u001B[0m \u001B[0mcertain \"global\" settings to all configurations in your organization. To\r\n",
      "\u001B[33m│\u001B[0m \u001B[0mreduce the verbosity of these warnings, use the -compact-warnings option.\r\n",
      "\u001B[33m╵\u001B[0m\u001B[0m\r\n",
      "\u001B[0m\u001B[1m\u001B[32m\r\n",
      "Apply complete! Resources: 0 added, 0 changed, 0 destroyed.\r\n",
      "\u001B[0m"
     ]
    }
   ],
   "execution_count": 6
  },
  {
   "metadata": {},
   "cell_type": "markdown",
   "source": "",
   "id": "5f27497c161233b2"
  }
 ],
 "metadata": {
  "kernelspec": {
   "display_name": "Python 3",
   "language": "python",
   "name": "python3"
  },
  "language_info": {
   "codemirror_mode": {
    "name": "ipython",
    "version": 2
   },
   "file_extension": ".py",
   "mimetype": "text/x-python",
   "name": "python",
   "nbconvert_exporter": "python",
   "pygments_lexer": "ipython2",
   "version": "2.7.6"
  }
 },
 "nbformat": 4,
 "nbformat_minor": 5
}
