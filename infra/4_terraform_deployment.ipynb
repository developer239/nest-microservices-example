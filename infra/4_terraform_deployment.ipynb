{
 "cells": [
  {
   "metadata": {},
   "cell_type": "markdown",
   "source": "# Terraform Deployment",
   "id": "6ed6db8fea48bf97"
  },
  {
   "metadata": {},
   "cell_type": "raw",
   "source": "Initialize local variables from the shared project variables file.",
   "id": "ae590f1ecc402b0"
  },
  {
   "metadata": {
    "ExecuteTime": {
     "end_time": "2024-07-21T15:44:45.919715Z",
     "start_time": "2024-07-21T15:44:45.912646Z"
    }
   },
   "cell_type": "code",
   "source": [
    "from project_vars import project_variables\n",
    "\n",
    "env = project_variables['environment']"
   ],
   "id": "40128febb3ecec7",
   "outputs": [],
   "execution_count": 2
  },
  {
   "metadata": {},
   "cell_type": "raw",
   "source": "We need to change the current working directory to the `environments/{env}` folder so that terraform commands can be executed in the correct directory.",
   "id": "d2f4580fe263e1fa"
  },
  {
   "metadata": {
    "ExecuteTime": {
     "end_time": "2024-07-21T15:44:47.778966Z",
     "start_time": "2024-07-21T15:44:47.771994Z"
    }
   },
   "cell_type": "code",
   "source": [
    "import os\n",
    "\n",
    "os.chdir(f\"./environments/{env}\")\n",
    "print(\"Current working directory:\", os.getcwd())"
   ],
   "id": "d98baa7f33877564",
   "outputs": [
    {
     "name": "stdout",
     "output_type": "stream",
     "text": [
      "Current working directory: /Users/michaljarnot/IdeaProjects/nest-microservices-example-v2/infra/environments/dev\n"
     ]
    }
   ],
   "execution_count": 3
  },
  {
   "metadata": {},
   "cell_type": "raw",
   "source": "Initialize the terraform workspace.",
   "id": "20059a313d5382cf"
  },
  {
   "metadata": {},
   "cell_type": "code",
   "outputs": [],
   "execution_count": null,
   "source": "!terraform init",
   "id": "ae504dc16da0adfb"
  },
  {
   "metadata": {},
   "cell_type": "raw",
   "source": "Apply the terraform changes.",
   "id": "ab1ff54d17335b90"
  },
  {
   "metadata": {},
   "cell_type": "code",
   "outputs": [],
   "execution_count": null,
   "source": "!terraform plan",
   "id": "30e5770c4f6baf72"
  },
  {
   "metadata": {},
   "cell_type": "raw",
   "source": "Note: The following command will fail with an error because we haven't uploaded Docker image yet.",
   "id": "da32ff425cb4d7c5"
  },
  {
   "metadata": {},
   "cell_type": "code",
   "outputs": [],
   "execution_count": null,
   "source": "!terraform apply --auto-approve",
   "id": "69a590cffcf3bb1c"
  },
  {
   "metadata": {},
   "cell_type": "markdown",
   "source": "",
   "id": "5f27497c161233b2"
  }
 ],
 "metadata": {
  "kernelspec": {
   "display_name": "Python 3",
   "language": "python",
   "name": "python3"
  },
  "language_info": {
   "codemirror_mode": {
    "name": "ipython",
    "version": 2
   },
   "file_extension": ".py",
   "mimetype": "text/x-python",
   "name": "python",
   "nbconvert_exporter": "python",
   "pygments_lexer": "ipython2",
   "version": "2.7.6"
  }
 },
 "nbformat": 4,
 "nbformat_minor": 5
}
